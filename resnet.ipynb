{
 "cells": [
  {
   "cell_type": "code",
   "execution_count": 4,
   "metadata": {},
   "outputs": [
    {
     "name": "stderr",
     "output_type": "stream",
     "text": [
      "INFO: Not scanning for jupyter notebooks.\n",
      "WARNING: Import named \"numpy\" not found locally. Trying to resolve it at the PyPI server.\n",
      "WARNING: Import named \"numpy\" was resolved to \"numpy:2.2.1\" package (https://pypi.org/project/numpy/).\n",
      "Please, verify manually the final list of requirements.txt to avoid possible dependency confusions.\n",
      "WARNING: Import named \"Pillow\" not found locally. Trying to resolve it at the PyPI server.\n",
      "WARNING: Import named \"Pillow\" was resolved to \"pillow:11.1.0\" package (https://pypi.org/project/pillow/).\n",
      "Please, verify manually the final list of requirements.txt to avoid possible dependency confusions.\n",
      "INFO: Successfully saved requirements file in .\\requirements.txt\n"
     ]
    }
   ],
   "source": [
    "!pipreqs --force .\n"
   ]
  },
  {
   "cell_type": "code",
   "execution_count": 11,
   "metadata": {},
   "outputs": [
    {
     "name": "stdout",
     "output_type": "stream",
     "text": [
      "^C\n"
     ]
    },
    {
     "name": "stdout",
     "output_type": "stream",
     "text": [
      "Requirement already satisfied: torchvision in c:\\users\\kkrrt\\appdata\\local\\programs\\python\\python310\\lib\\site-packages (0.20.1)\n",
      "Requirement already satisfied: numpy in c:\\users\\kkrrt\\appdata\\local\\programs\\python\\python310\\lib\\site-packages (from torchvision) (1.26.4)\n",
      "Requirement already satisfied: torch==2.5.1 in c:\\users\\kkrrt\\appdata\\local\\programs\\python\\python310\\lib\\site-packages (from torchvision) (2.5.1)\n",
      "Requirement already satisfied: pillow!=8.3.*,>=5.3.0 in c:\\users\\kkrrt\\appdata\\local\\programs\\python\\python310\\lib\\site-packages (from torchvision) (10.1.0)\n",
      "Requirement already satisfied: filelock in c:\\users\\kkrrt\\appdata\\local\\programs\\python\\python310\\lib\\site-packages (from torch==2.5.1->torchvision) (3.16.1)\n",
      "Requirement already satisfied: typing-extensions>=4.8.0 in c:\\users\\kkrrt\\appdata\\local\\programs\\python\\python310\\lib\\site-packages (from torch==2.5.1->torchvision) (4.12.2)\n",
      "Requirement already satisfied: networkx in c:\\users\\kkrrt\\appdata\\local\\programs\\python\\python310\\lib\\site-packages (from torch==2.5.1->torchvision) (3.4.2)\n",
      "Requirement already satisfied: jinja2 in c:\\users\\kkrrt\\appdata\\local\\programs\\python\\python310\\lib\\site-packages (from torch==2.5.1->torchvision) (3.1.2)\n",
      "Requirement already satisfied: fsspec in c:\\users\\kkrrt\\appdata\\local\\programs\\python\\python310\\lib\\site-packages (from torch==2.5.1->torchvision) (2024.10.0)\n",
      "Requirement already satisfied: sympy==1.13.1 in c:\\users\\kkrrt\\appdata\\local\\programs\\python\\python310\\lib\\site-packages (from torch==2.5.1->torchvision) (1.13.1)\n",
      "Requirement already satisfied: mpmath<1.4,>=1.1.0 in c:\\users\\kkrrt\\appdata\\local\\programs\\python\\python310\\lib\\site-packages (from sympy==1.13.1->torch==2.5.1->torchvision) (1.3.0)\n",
      "Requirement already satisfied: MarkupSafe>=2.0 in c:\\users\\kkrrt\\appdata\\local\\programs\\python\\python310\\lib\\site-packages (from jinja2->torch==2.5.1->torchvision) (2.1.5)\n"
     ]
    }
   ],
   "source": [
    "!pip install torchvision"
   ]
  },
  {
   "cell_type": "code",
   "execution_count": 12,
   "metadata": {},
   "outputs": [],
   "source": [
    "# Cell 1: Imports\n",
    "import torch\n",
    "import torch.nn as nn\n",
    "import torch.optim as optim\n",
    "from torch.utils.data import Dataset, DataLoader\n",
    "from torchvision import transforms, models\n",
    "import numpy as np\n",
    "from tqdm import tqdm\n",
    "import os\n",
    "from PIL import Image\n",
    "from torch.cuda import amp  # For mixed precision training"
   ]
  },
  {
   "cell_type": "code",
   "execution_count": 13,
   "metadata": {},
   "outputs": [],
   "source": [
    "# Cell 2: Dataset Class\n",
    "class MovementDataset(Dataset):\n",
    "    def __init__(self, data_dir, transform=None):\n",
    "        self.data_dir = data_dir\n",
    "        self.transform = transform\n",
    "        self.classes = ['basic_movements', 'grasping_movements']\n",
    "        self.file_list = []\n",
    "        self.labels = []\n",
    "        \n",
    "        for class_idx, class_name in enumerate(self.classes):\n",
    "            class_path = os.path.join(data_dir, class_name)\n",
    "            files = os.listdir(class_path)\n",
    "            self.file_list.extend([os.path.join(class_path, f) for f in files])\n",
    "            self.labels.extend([class_idx] * len(files))\n",
    "    \n",
    "    def __len__(self):\n",
    "        return len(self.file_list)\n",
    "    \n",
    "    def __getitem__(self, idx):\n",
    "        img_path = self.file_list[idx]\n",
    "        image = Image.open(img_path).convert('RGB')\n",
    "        label = self.labels[idx]\n",
    "        \n",
    "        if self.transform:\n",
    "            image = self.transform(image)\n",
    "            \n",
    "        return image, label"
   ]
  },
  {
   "cell_type": "code",
   "execution_count": 14,
   "metadata": {},
   "outputs": [],
   "source": [
    "# Cell 3: Optimized ResNet Model\n",
    "class ResNetModel(nn.Module):\n",
    "    def __init__(self, num_classes=2):\n",
    "        super(ResNetModel, self).__init__()\n",
    "        \n",
    "        # Load pretrained ResNet18 instead of ResNet50\n",
    "        self.resnet = models.resnet18(weights=models.ResNet18_Weights.IMAGENET1K_V1)\n",
    "        \n",
    "        # Freeze only early layers\n",
    "        for name, param in self.resnet.named_parameters():\n",
    "            if \"layer4\" not in name and \"fc\" not in name:\n",
    "                param.requires_grad = False\n",
    "            \n",
    "        # Enhanced classifier head\n",
    "        num_features = self.resnet.fc.in_features\n",
    "        self.resnet.fc = nn.Sequential(\n",
    "            nn.Linear(num_features, 512),\n",
    "            nn.BatchNorm1d(512),\n",
    "            nn.ReLU(),\n",
    "            nn.Dropout(0.3),\n",
    "            nn.Linear(512, num_classes)\n",
    "        )\n",
    "        \n",
    "    def forward(self, x):\n",
    "        return self.resnet(x)"
   ]
  },
  {
   "cell_type": "code",
   "execution_count": 15,
   "metadata": {},
   "outputs": [],
   "source": [
    "# Cell 4: Enhanced Data Transforms\n",
    "transform_train = transforms.Compose([\n",
    "    transforms.Resize((256, 256)),\n",
    "    transforms.RandomResizedCrop(224, scale=(0.8, 1.0)),\n",
    "    transforms.RandomHorizontalFlip(),\n",
    "    transforms.RandomVerticalFlip(),\n",
    "    transforms.RandomRotation(30),\n",
    "    transforms.ColorJitter(brightness=0.3, contrast=0.3, saturation=0.3, hue=0.1),\n",
    "    transforms.RandomAffine(degrees=0, translate=(0.2, 0.2), scale=(0.8, 1.2)),\n",
    "    transforms.ToTensor(),\n",
    "    transforms.Normalize(mean=[0.485, 0.456, 0.406], std=[0.229, 0.224, 0.225])\n",
    "])"
   ]
  },
  {
   "cell_type": "code",
   "execution_count": 16,
   "metadata": {},
   "outputs": [],
   "source": [
    "# Cell 5: Mixup Function\n",
    "def mixup_data(x, y, alpha=0.2):\n",
    "    lam = np.random.beta(alpha, alpha)\n",
    "    batch_size = x.size()[0]\n",
    "    index = torch.randperm(batch_size).to(x.device)\n",
    "    mixed_x = lam * x + (1 - lam) * x[index]\n",
    "    y_a, y_b = y, y[index]\n",
    "    return mixed_x, y_a, y_b, lam"
   ]
  },
  {
   "cell_type": "code",
   "execution_count": 17,
   "metadata": {},
   "outputs": [],
   "source": [
    "# Cell 6: Optimized Training Function\n",
    "device = torch.device('cuda' if torch.cuda.is_available() else 'cpu')\n",
    "\n",
    "def train_model(model, train_loader, num_epochs=100):\n",
    "    criterion = nn.CrossEntropyLoss(label_smoothing=0.1)\n",
    "    optimizer = optim.AdamW(\n",
    "        model.parameters(),\n",
    "        lr=0.001,  # Increased learning rate\n",
    "        weight_decay=0.01,\n",
    "        betas=(0.9, 0.999)\n",
    "    )\n",
    "    \n",
    "    scheduler = optim.lr_scheduler.OneCycleLR(\n",
    "        optimizer,\n",
    "        max_lr=0.001,\n",
    "        epochs=num_epochs,\n",
    "        steps_per_epoch=len(train_loader),\n",
    "        pct_start=0.1,\n",
    "        div_factor=25.0,\n",
    "        final_div_factor=1000.0\n",
    "    )\n",
    "    \n",
    "    scaler = amp.GradScaler()\n",
    "    \n",
    "    best_acc = 0\n",
    "    patience = 5\n",
    "    patience_counter = 0\n",
    "    \n",
    "    for epoch in range(num_epochs):\n",
    "        model.train()\n",
    "        running_loss = 0.0\n",
    "        correct = 0\n",
    "        total = 0\n",
    "        \n",
    "        pbar = tqdm(train_loader)\n",
    "        for inputs, targets in pbar:\n",
    "            inputs, targets = inputs.to(device), targets.to(device)\n",
    "            \n",
    "            with amp.autocast():\n",
    "                if np.random.random() > 0.5:\n",
    "                    inputs, targets_a, targets_b, lam = mixup_data(inputs, targets)\n",
    "                    outputs = model(inputs)\n",
    "                    loss = lam * criterion(outputs, targets_a) + (1 - lam) * criterion(outputs, targets_b)\n",
    "                else:\n",
    "                    outputs = model(inputs)\n",
    "                    loss = criterion(outputs, targets)\n",
    "            \n",
    "            optimizer.zero_grad(set_to_none=True)\n",
    "            scaler.scale(loss).backward()\n",
    "            scaler.unscale_(optimizer)\n",
    "            torch.nn.utils.clip_grad_norm_(model.parameters(), max_norm=1.0)\n",
    "            \n",
    "            scaler.step(optimizer)\n",
    "            scaler.update()\n",
    "            scheduler.step()\n",
    "            \n",
    "            running_loss += loss.item()\n",
    "            _, predicted = outputs.max(1)\n",
    "            total += targets.size(0)\n",
    "            correct += predicted.eq(targets).sum().item()\n",
    "            \n",
    "            pbar.set_description(\n",
    "                f'Epoch {epoch+1}/{num_epochs} | '\n",
    "                f'Loss: {loss.item():.4f} | '\n",
    "                f'Acc: {100.*correct/total:.2f}% | '\n",
    "                f'LR: {scheduler.get_last_lr()[0]:.6f}'\n",
    "            )\n",
    "        \n",
    "        epoch_loss = running_loss / len(train_loader)\n",
    "        epoch_acc = 100. * correct / total\n",
    "        \n",
    "        print(f\"\\nEpoch Summary:\")\n",
    "        print(f\"Loss: {epoch_loss:.4f} | Accuracy: {epoch_acc:.2f}%\")\n",
    "        \n",
    "        if epoch_acc > best_acc:\n",
    "            best_acc = epoch_acc\n",
    "            patience_counter = 0\n",
    "            torch.save({\n",
    "                'epoch': epoch,\n",
    "                'model_state_dict': model.state_dict(),\n",
    "                'optimizer_state_dict': optimizer.state_dict(),\n",
    "                'acc': epoch_acc,\n",
    "            }, 'best_model.pth')\n",
    "            print(f\"New best accuracy! Model saved.\")\n",
    "        else:\n",
    "            patience_counter += 1\n",
    "            if patience_counter >= patience:\n",
    "                print(\".\")\n",
    "                \n",
    "    \n",
    "    return best_acc"
   ]
  },
  {
   "cell_type": "code",
   "execution_count": null,
   "metadata": {},
   "outputs": [],
   "source": []
  },
  {
   "cell_type": "code",
   "execution_count": 18,
   "metadata": {},
   "outputs": [
    {
     "name": "stdout",
     "output_type": "stream",
     "text": [
      "Using device: cpu\n",
      "\n",
      "Class distribution:\n"
     ]
    },
    {
     "name": "stderr",
     "output_type": "stream",
     "text": [
      "C:\\Users\\kkrrt\\AppData\\Local\\Temp\\ipykernel_19876\\898063188.py:23: FutureWarning: `torch.cuda.amp.GradScaler(args...)` is deprecated. Please use `torch.amp.GradScaler('cuda', args...)` instead.\n",
      "  scaler = amp.GradScaler()\n",
      "c:\\Users\\kkrrt\\AppData\\Local\\Programs\\Python\\Python310\\lib\\site-packages\\torch\\amp\\grad_scaler.py:132: UserWarning: torch.cuda.amp.GradScaler is enabled, but CUDA is not available.  Disabling.\n",
      "  warnings.warn(\n"
     ]
    },
    {
     "name": "stdout",
     "output_type": "stream",
     "text": [
      "Basic movements: 3403\n",
      "Grasping movements: 3403\n",
      "Ratio: 1.00\n"
     ]
    },
    {
     "name": "stderr",
     "output_type": "stream",
     "text": [
      "  0%|          | 0/213 [00:00<?, ?it/s]C:\\Users\\kkrrt\\AppData\\Local\\Temp\\ipykernel_19876\\898063188.py:39: FutureWarning: `torch.cuda.amp.autocast(args...)` is deprecated. Please use `torch.amp.autocast('cuda', args...)` instead.\n",
      "  with amp.autocast():\n",
      "c:\\Users\\kkrrt\\AppData\\Local\\Programs\\Python\\Python310\\lib\\site-packages\\torch\\amp\\autocast_mode.py:266: UserWarning: User provided device_type of 'cuda', but CUDA is not available. Disabling\n",
      "  warnings.warn(\n",
      "Epoch 1/100 | Loss: 0.7524 | Acc: 55.61% | LR: 0.000064: 100%|██████████| 213/213 [12:33<00:00,  3.54s/it]\n"
     ]
    },
    {
     "name": "stdout",
     "output_type": "stream",
     "text": [
      "\n",
      "Epoch Summary:\n",
      "Loss: 0.7002 | Accuracy: 55.61%\n",
      "New best accuracy! Model saved.\n"
     ]
    },
    {
     "name": "stderr",
     "output_type": "stream",
     "text": [
      "Epoch 2/100 | Loss: 0.6391 | Acc: 55.90% | LR: 0.000089:  46%|████▌     | 97/213 [05:22<06:25,  3.32s/it]\n"
     ]
    },
    {
     "ename": "KeyboardInterrupt",
     "evalue": "",
     "output_type": "error",
     "traceback": [
      "\u001b[1;31m---------------------------------------------------------------------------\u001b[0m",
      "\u001b[1;31mKeyboardInterrupt\u001b[0m                         Traceback (most recent call last)",
      "Cell \u001b[1;32mIn[18], line 35\u001b[0m\n\u001b[0;32m     26\u001b[0m train_loader \u001b[38;5;241m=\u001b[39m DataLoader(\n\u001b[0;32m     27\u001b[0m     train_dataset,\n\u001b[0;32m     28\u001b[0m     batch_size\u001b[38;5;241m=\u001b[39mbatch_size,\n\u001b[1;32m   (...)\u001b[0m\n\u001b[0;32m     31\u001b[0m     pin_memory\u001b[38;5;241m=\u001b[39mtorch\u001b[38;5;241m.\u001b[39mcuda\u001b[38;5;241m.\u001b[39mis_available()\n\u001b[0;32m     32\u001b[0m )\n\u001b[0;32m     34\u001b[0m \u001b[38;5;66;03m# Train model\u001b[39;00m\n\u001b[1;32m---> 35\u001b[0m best_accuracy \u001b[38;5;241m=\u001b[39m \u001b[43mtrain_model\u001b[49m\u001b[43m(\u001b[49m\u001b[43mmodel\u001b[49m\u001b[43m,\u001b[49m\u001b[43m \u001b[49m\u001b[43mtrain_loader\u001b[49m\u001b[43m)\u001b[49m\n\u001b[0;32m     36\u001b[0m \u001b[38;5;28mprint\u001b[39m(\u001b[38;5;124mf\u001b[39m\u001b[38;5;124m\"\u001b[39m\u001b[38;5;130;01m\\n\u001b[39;00m\u001b[38;5;124mTraining completed! Best accuracy: \u001b[39m\u001b[38;5;132;01m{\u001b[39;00mbest_accuracy\u001b[38;5;132;01m:\u001b[39;00m\u001b[38;5;124m.2f\u001b[39m\u001b[38;5;132;01m}\u001b[39;00m\u001b[38;5;124m%\u001b[39m\u001b[38;5;124m\"\u001b[39m)\n",
      "Cell \u001b[1;32mIn[17], line 45\u001b[0m, in \u001b[0;36mtrain_model\u001b[1;34m(model, train_loader, num_epochs)\u001b[0m\n\u001b[0;32m     43\u001b[0m         loss \u001b[38;5;241m=\u001b[39m lam \u001b[38;5;241m*\u001b[39m criterion(outputs, targets_a) \u001b[38;5;241m+\u001b[39m (\u001b[38;5;241m1\u001b[39m \u001b[38;5;241m-\u001b[39m lam) \u001b[38;5;241m*\u001b[39m criterion(outputs, targets_b)\n\u001b[0;32m     44\u001b[0m     \u001b[38;5;28;01melse\u001b[39;00m:\n\u001b[1;32m---> 45\u001b[0m         outputs \u001b[38;5;241m=\u001b[39m \u001b[43mmodel\u001b[49m\u001b[43m(\u001b[49m\u001b[43minputs\u001b[49m\u001b[43m)\u001b[49m\n\u001b[0;32m     46\u001b[0m         loss \u001b[38;5;241m=\u001b[39m criterion(outputs, targets)\n\u001b[0;32m     48\u001b[0m optimizer\u001b[38;5;241m.\u001b[39mzero_grad(set_to_none\u001b[38;5;241m=\u001b[39m\u001b[38;5;28;01mTrue\u001b[39;00m)\n",
      "File \u001b[1;32mc:\\Users\\kkrrt\\AppData\\Local\\Programs\\Python\\Python310\\lib\\site-packages\\torch\\nn\\modules\\module.py:1736\u001b[0m, in \u001b[0;36mModule._wrapped_call_impl\u001b[1;34m(self, *args, **kwargs)\u001b[0m\n\u001b[0;32m   1734\u001b[0m     \u001b[38;5;28;01mreturn\u001b[39;00m \u001b[38;5;28mself\u001b[39m\u001b[38;5;241m.\u001b[39m_compiled_call_impl(\u001b[38;5;241m*\u001b[39margs, \u001b[38;5;241m*\u001b[39m\u001b[38;5;241m*\u001b[39mkwargs)  \u001b[38;5;66;03m# type: ignore[misc]\u001b[39;00m\n\u001b[0;32m   1735\u001b[0m \u001b[38;5;28;01melse\u001b[39;00m:\n\u001b[1;32m-> 1736\u001b[0m     \u001b[38;5;28;01mreturn\u001b[39;00m \u001b[38;5;28mself\u001b[39m\u001b[38;5;241m.\u001b[39m_call_impl(\u001b[38;5;241m*\u001b[39margs, \u001b[38;5;241m*\u001b[39m\u001b[38;5;241m*\u001b[39mkwargs)\n",
      "File \u001b[1;32mc:\\Users\\kkrrt\\AppData\\Local\\Programs\\Python\\Python310\\lib\\site-packages\\torch\\nn\\modules\\module.py:1747\u001b[0m, in \u001b[0;36mModule._call_impl\u001b[1;34m(self, *args, **kwargs)\u001b[0m\n\u001b[0;32m   1742\u001b[0m \u001b[38;5;66;03m# If we don't have any hooks, we want to skip the rest of the logic in\u001b[39;00m\n\u001b[0;32m   1743\u001b[0m \u001b[38;5;66;03m# this function, and just call forward.\u001b[39;00m\n\u001b[0;32m   1744\u001b[0m \u001b[38;5;28;01mif\u001b[39;00m \u001b[38;5;129;01mnot\u001b[39;00m (\u001b[38;5;28mself\u001b[39m\u001b[38;5;241m.\u001b[39m_backward_hooks \u001b[38;5;129;01mor\u001b[39;00m \u001b[38;5;28mself\u001b[39m\u001b[38;5;241m.\u001b[39m_backward_pre_hooks \u001b[38;5;129;01mor\u001b[39;00m \u001b[38;5;28mself\u001b[39m\u001b[38;5;241m.\u001b[39m_forward_hooks \u001b[38;5;129;01mor\u001b[39;00m \u001b[38;5;28mself\u001b[39m\u001b[38;5;241m.\u001b[39m_forward_pre_hooks\n\u001b[0;32m   1745\u001b[0m         \u001b[38;5;129;01mor\u001b[39;00m _global_backward_pre_hooks \u001b[38;5;129;01mor\u001b[39;00m _global_backward_hooks\n\u001b[0;32m   1746\u001b[0m         \u001b[38;5;129;01mor\u001b[39;00m _global_forward_hooks \u001b[38;5;129;01mor\u001b[39;00m _global_forward_pre_hooks):\n\u001b[1;32m-> 1747\u001b[0m     \u001b[38;5;28;01mreturn\u001b[39;00m forward_call(\u001b[38;5;241m*\u001b[39margs, \u001b[38;5;241m*\u001b[39m\u001b[38;5;241m*\u001b[39mkwargs)\n\u001b[0;32m   1749\u001b[0m result \u001b[38;5;241m=\u001b[39m \u001b[38;5;28;01mNone\u001b[39;00m\n\u001b[0;32m   1750\u001b[0m called_always_called_hooks \u001b[38;5;241m=\u001b[39m \u001b[38;5;28mset\u001b[39m()\n",
      "Cell \u001b[1;32mIn[14], line 25\u001b[0m, in \u001b[0;36mResNetModel.forward\u001b[1;34m(self, x)\u001b[0m\n\u001b[0;32m     24\u001b[0m \u001b[38;5;28;01mdef\u001b[39;00m \u001b[38;5;21mforward\u001b[39m(\u001b[38;5;28mself\u001b[39m, x):\n\u001b[1;32m---> 25\u001b[0m     \u001b[38;5;28;01mreturn\u001b[39;00m \u001b[38;5;28;43mself\u001b[39;49m\u001b[38;5;241;43m.\u001b[39;49m\u001b[43mresnet\u001b[49m\u001b[43m(\u001b[49m\u001b[43mx\u001b[49m\u001b[43m)\u001b[49m\n",
      "File \u001b[1;32mc:\\Users\\kkrrt\\AppData\\Local\\Programs\\Python\\Python310\\lib\\site-packages\\torch\\nn\\modules\\module.py:1736\u001b[0m, in \u001b[0;36mModule._wrapped_call_impl\u001b[1;34m(self, *args, **kwargs)\u001b[0m\n\u001b[0;32m   1734\u001b[0m     \u001b[38;5;28;01mreturn\u001b[39;00m \u001b[38;5;28mself\u001b[39m\u001b[38;5;241m.\u001b[39m_compiled_call_impl(\u001b[38;5;241m*\u001b[39margs, \u001b[38;5;241m*\u001b[39m\u001b[38;5;241m*\u001b[39mkwargs)  \u001b[38;5;66;03m# type: ignore[misc]\u001b[39;00m\n\u001b[0;32m   1735\u001b[0m \u001b[38;5;28;01melse\u001b[39;00m:\n\u001b[1;32m-> 1736\u001b[0m     \u001b[38;5;28;01mreturn\u001b[39;00m \u001b[38;5;28mself\u001b[39m\u001b[38;5;241m.\u001b[39m_call_impl(\u001b[38;5;241m*\u001b[39margs, \u001b[38;5;241m*\u001b[39m\u001b[38;5;241m*\u001b[39mkwargs)\n",
      "File \u001b[1;32mc:\\Users\\kkrrt\\AppData\\Local\\Programs\\Python\\Python310\\lib\\site-packages\\torch\\nn\\modules\\module.py:1747\u001b[0m, in \u001b[0;36mModule._call_impl\u001b[1;34m(self, *args, **kwargs)\u001b[0m\n\u001b[0;32m   1742\u001b[0m \u001b[38;5;66;03m# If we don't have any hooks, we want to skip the rest of the logic in\u001b[39;00m\n\u001b[0;32m   1743\u001b[0m \u001b[38;5;66;03m# this function, and just call forward.\u001b[39;00m\n\u001b[0;32m   1744\u001b[0m \u001b[38;5;28;01mif\u001b[39;00m \u001b[38;5;129;01mnot\u001b[39;00m (\u001b[38;5;28mself\u001b[39m\u001b[38;5;241m.\u001b[39m_backward_hooks \u001b[38;5;129;01mor\u001b[39;00m \u001b[38;5;28mself\u001b[39m\u001b[38;5;241m.\u001b[39m_backward_pre_hooks \u001b[38;5;129;01mor\u001b[39;00m \u001b[38;5;28mself\u001b[39m\u001b[38;5;241m.\u001b[39m_forward_hooks \u001b[38;5;129;01mor\u001b[39;00m \u001b[38;5;28mself\u001b[39m\u001b[38;5;241m.\u001b[39m_forward_pre_hooks\n\u001b[0;32m   1745\u001b[0m         \u001b[38;5;129;01mor\u001b[39;00m _global_backward_pre_hooks \u001b[38;5;129;01mor\u001b[39;00m _global_backward_hooks\n\u001b[0;32m   1746\u001b[0m         \u001b[38;5;129;01mor\u001b[39;00m _global_forward_hooks \u001b[38;5;129;01mor\u001b[39;00m _global_forward_pre_hooks):\n\u001b[1;32m-> 1747\u001b[0m     \u001b[38;5;28;01mreturn\u001b[39;00m forward_call(\u001b[38;5;241m*\u001b[39margs, \u001b[38;5;241m*\u001b[39m\u001b[38;5;241m*\u001b[39mkwargs)\n\u001b[0;32m   1749\u001b[0m result \u001b[38;5;241m=\u001b[39m \u001b[38;5;28;01mNone\u001b[39;00m\n\u001b[0;32m   1750\u001b[0m called_always_called_hooks \u001b[38;5;241m=\u001b[39m \u001b[38;5;28mset\u001b[39m()\n",
      "File \u001b[1;32mc:\\Users\\kkrrt\\AppData\\Local\\Programs\\Python\\Python310\\lib\\site-packages\\torchvision\\models\\resnet.py:285\u001b[0m, in \u001b[0;36mResNet.forward\u001b[1;34m(self, x)\u001b[0m\n\u001b[0;32m    284\u001b[0m \u001b[38;5;28;01mdef\u001b[39;00m \u001b[38;5;21mforward\u001b[39m(\u001b[38;5;28mself\u001b[39m, x: Tensor) \u001b[38;5;241m-\u001b[39m\u001b[38;5;241m>\u001b[39m Tensor:\n\u001b[1;32m--> 285\u001b[0m     \u001b[38;5;28;01mreturn\u001b[39;00m \u001b[38;5;28;43mself\u001b[39;49m\u001b[38;5;241;43m.\u001b[39;49m\u001b[43m_forward_impl\u001b[49m\u001b[43m(\u001b[49m\u001b[43mx\u001b[49m\u001b[43m)\u001b[49m\n",
      "File \u001b[1;32mc:\\Users\\kkrrt\\AppData\\Local\\Programs\\Python\\Python310\\lib\\site-packages\\torchvision\\models\\resnet.py:274\u001b[0m, in \u001b[0;36mResNet._forward_impl\u001b[1;34m(self, x)\u001b[0m\n\u001b[0;32m    271\u001b[0m x \u001b[38;5;241m=\u001b[39m \u001b[38;5;28mself\u001b[39m\u001b[38;5;241m.\u001b[39mmaxpool(x)\n\u001b[0;32m    273\u001b[0m x \u001b[38;5;241m=\u001b[39m \u001b[38;5;28mself\u001b[39m\u001b[38;5;241m.\u001b[39mlayer1(x)\n\u001b[1;32m--> 274\u001b[0m x \u001b[38;5;241m=\u001b[39m \u001b[38;5;28;43mself\u001b[39;49m\u001b[38;5;241;43m.\u001b[39;49m\u001b[43mlayer2\u001b[49m\u001b[43m(\u001b[49m\u001b[43mx\u001b[49m\u001b[43m)\u001b[49m\n\u001b[0;32m    275\u001b[0m x \u001b[38;5;241m=\u001b[39m \u001b[38;5;28mself\u001b[39m\u001b[38;5;241m.\u001b[39mlayer3(x)\n\u001b[0;32m    276\u001b[0m x \u001b[38;5;241m=\u001b[39m \u001b[38;5;28mself\u001b[39m\u001b[38;5;241m.\u001b[39mlayer4(x)\n",
      "File \u001b[1;32mc:\\Users\\kkrrt\\AppData\\Local\\Programs\\Python\\Python310\\lib\\site-packages\\torch\\nn\\modules\\module.py:1736\u001b[0m, in \u001b[0;36mModule._wrapped_call_impl\u001b[1;34m(self, *args, **kwargs)\u001b[0m\n\u001b[0;32m   1734\u001b[0m     \u001b[38;5;28;01mreturn\u001b[39;00m \u001b[38;5;28mself\u001b[39m\u001b[38;5;241m.\u001b[39m_compiled_call_impl(\u001b[38;5;241m*\u001b[39margs, \u001b[38;5;241m*\u001b[39m\u001b[38;5;241m*\u001b[39mkwargs)  \u001b[38;5;66;03m# type: ignore[misc]\u001b[39;00m\n\u001b[0;32m   1735\u001b[0m \u001b[38;5;28;01melse\u001b[39;00m:\n\u001b[1;32m-> 1736\u001b[0m     \u001b[38;5;28;01mreturn\u001b[39;00m \u001b[38;5;28mself\u001b[39m\u001b[38;5;241m.\u001b[39m_call_impl(\u001b[38;5;241m*\u001b[39margs, \u001b[38;5;241m*\u001b[39m\u001b[38;5;241m*\u001b[39mkwargs)\n",
      "File \u001b[1;32mc:\\Users\\kkrrt\\AppData\\Local\\Programs\\Python\\Python310\\lib\\site-packages\\torch\\nn\\modules\\module.py:1747\u001b[0m, in \u001b[0;36mModule._call_impl\u001b[1;34m(self, *args, **kwargs)\u001b[0m\n\u001b[0;32m   1742\u001b[0m \u001b[38;5;66;03m# If we don't have any hooks, we want to skip the rest of the logic in\u001b[39;00m\n\u001b[0;32m   1743\u001b[0m \u001b[38;5;66;03m# this function, and just call forward.\u001b[39;00m\n\u001b[0;32m   1744\u001b[0m \u001b[38;5;28;01mif\u001b[39;00m \u001b[38;5;129;01mnot\u001b[39;00m (\u001b[38;5;28mself\u001b[39m\u001b[38;5;241m.\u001b[39m_backward_hooks \u001b[38;5;129;01mor\u001b[39;00m \u001b[38;5;28mself\u001b[39m\u001b[38;5;241m.\u001b[39m_backward_pre_hooks \u001b[38;5;129;01mor\u001b[39;00m \u001b[38;5;28mself\u001b[39m\u001b[38;5;241m.\u001b[39m_forward_hooks \u001b[38;5;129;01mor\u001b[39;00m \u001b[38;5;28mself\u001b[39m\u001b[38;5;241m.\u001b[39m_forward_pre_hooks\n\u001b[0;32m   1745\u001b[0m         \u001b[38;5;129;01mor\u001b[39;00m _global_backward_pre_hooks \u001b[38;5;129;01mor\u001b[39;00m _global_backward_hooks\n\u001b[0;32m   1746\u001b[0m         \u001b[38;5;129;01mor\u001b[39;00m _global_forward_hooks \u001b[38;5;129;01mor\u001b[39;00m _global_forward_pre_hooks):\n\u001b[1;32m-> 1747\u001b[0m     \u001b[38;5;28;01mreturn\u001b[39;00m forward_call(\u001b[38;5;241m*\u001b[39margs, \u001b[38;5;241m*\u001b[39m\u001b[38;5;241m*\u001b[39mkwargs)\n\u001b[0;32m   1749\u001b[0m result \u001b[38;5;241m=\u001b[39m \u001b[38;5;28;01mNone\u001b[39;00m\n\u001b[0;32m   1750\u001b[0m called_always_called_hooks \u001b[38;5;241m=\u001b[39m \u001b[38;5;28mset\u001b[39m()\n",
      "File \u001b[1;32mc:\\Users\\kkrrt\\AppData\\Local\\Programs\\Python\\Python310\\lib\\site-packages\\torch\\nn\\modules\\container.py:250\u001b[0m, in \u001b[0;36mSequential.forward\u001b[1;34m(self, input)\u001b[0m\n\u001b[0;32m    248\u001b[0m \u001b[38;5;28;01mdef\u001b[39;00m \u001b[38;5;21mforward\u001b[39m(\u001b[38;5;28mself\u001b[39m, \u001b[38;5;28minput\u001b[39m):\n\u001b[0;32m    249\u001b[0m     \u001b[38;5;28;01mfor\u001b[39;00m module \u001b[38;5;129;01min\u001b[39;00m \u001b[38;5;28mself\u001b[39m:\n\u001b[1;32m--> 250\u001b[0m         \u001b[38;5;28minput\u001b[39m \u001b[38;5;241m=\u001b[39m \u001b[43mmodule\u001b[49m\u001b[43m(\u001b[49m\u001b[38;5;28;43minput\u001b[39;49m\u001b[43m)\u001b[49m\n\u001b[0;32m    251\u001b[0m     \u001b[38;5;28;01mreturn\u001b[39;00m \u001b[38;5;28minput\u001b[39m\n",
      "File \u001b[1;32mc:\\Users\\kkrrt\\AppData\\Local\\Programs\\Python\\Python310\\lib\\site-packages\\torch\\nn\\modules\\module.py:1736\u001b[0m, in \u001b[0;36mModule._wrapped_call_impl\u001b[1;34m(self, *args, **kwargs)\u001b[0m\n\u001b[0;32m   1734\u001b[0m     \u001b[38;5;28;01mreturn\u001b[39;00m \u001b[38;5;28mself\u001b[39m\u001b[38;5;241m.\u001b[39m_compiled_call_impl(\u001b[38;5;241m*\u001b[39margs, \u001b[38;5;241m*\u001b[39m\u001b[38;5;241m*\u001b[39mkwargs)  \u001b[38;5;66;03m# type: ignore[misc]\u001b[39;00m\n\u001b[0;32m   1735\u001b[0m \u001b[38;5;28;01melse\u001b[39;00m:\n\u001b[1;32m-> 1736\u001b[0m     \u001b[38;5;28;01mreturn\u001b[39;00m \u001b[38;5;28mself\u001b[39m\u001b[38;5;241m.\u001b[39m_call_impl(\u001b[38;5;241m*\u001b[39margs, \u001b[38;5;241m*\u001b[39m\u001b[38;5;241m*\u001b[39mkwargs)\n",
      "File \u001b[1;32mc:\\Users\\kkrrt\\AppData\\Local\\Programs\\Python\\Python310\\lib\\site-packages\\torch\\nn\\modules\\module.py:1747\u001b[0m, in \u001b[0;36mModule._call_impl\u001b[1;34m(self, *args, **kwargs)\u001b[0m\n\u001b[0;32m   1742\u001b[0m \u001b[38;5;66;03m# If we don't have any hooks, we want to skip the rest of the logic in\u001b[39;00m\n\u001b[0;32m   1743\u001b[0m \u001b[38;5;66;03m# this function, and just call forward.\u001b[39;00m\n\u001b[0;32m   1744\u001b[0m \u001b[38;5;28;01mif\u001b[39;00m \u001b[38;5;129;01mnot\u001b[39;00m (\u001b[38;5;28mself\u001b[39m\u001b[38;5;241m.\u001b[39m_backward_hooks \u001b[38;5;129;01mor\u001b[39;00m \u001b[38;5;28mself\u001b[39m\u001b[38;5;241m.\u001b[39m_backward_pre_hooks \u001b[38;5;129;01mor\u001b[39;00m \u001b[38;5;28mself\u001b[39m\u001b[38;5;241m.\u001b[39m_forward_hooks \u001b[38;5;129;01mor\u001b[39;00m \u001b[38;5;28mself\u001b[39m\u001b[38;5;241m.\u001b[39m_forward_pre_hooks\n\u001b[0;32m   1745\u001b[0m         \u001b[38;5;129;01mor\u001b[39;00m _global_backward_pre_hooks \u001b[38;5;129;01mor\u001b[39;00m _global_backward_hooks\n\u001b[0;32m   1746\u001b[0m         \u001b[38;5;129;01mor\u001b[39;00m _global_forward_hooks \u001b[38;5;129;01mor\u001b[39;00m _global_forward_pre_hooks):\n\u001b[1;32m-> 1747\u001b[0m     \u001b[38;5;28;01mreturn\u001b[39;00m forward_call(\u001b[38;5;241m*\u001b[39margs, \u001b[38;5;241m*\u001b[39m\u001b[38;5;241m*\u001b[39mkwargs)\n\u001b[0;32m   1749\u001b[0m result \u001b[38;5;241m=\u001b[39m \u001b[38;5;28;01mNone\u001b[39;00m\n\u001b[0;32m   1750\u001b[0m called_always_called_hooks \u001b[38;5;241m=\u001b[39m \u001b[38;5;28mset\u001b[39m()\n",
      "File \u001b[1;32mc:\\Users\\kkrrt\\AppData\\Local\\Programs\\Python\\Python310\\lib\\site-packages\\torchvision\\models\\resnet.py:96\u001b[0m, in \u001b[0;36mBasicBlock.forward\u001b[1;34m(self, x)\u001b[0m\n\u001b[0;32m     93\u001b[0m out \u001b[38;5;241m=\u001b[39m \u001b[38;5;28mself\u001b[39m\u001b[38;5;241m.\u001b[39mbn1(out)\n\u001b[0;32m     94\u001b[0m out \u001b[38;5;241m=\u001b[39m \u001b[38;5;28mself\u001b[39m\u001b[38;5;241m.\u001b[39mrelu(out)\n\u001b[1;32m---> 96\u001b[0m out \u001b[38;5;241m=\u001b[39m \u001b[38;5;28;43mself\u001b[39;49m\u001b[38;5;241;43m.\u001b[39;49m\u001b[43mconv2\u001b[49m\u001b[43m(\u001b[49m\u001b[43mout\u001b[49m\u001b[43m)\u001b[49m\n\u001b[0;32m     97\u001b[0m out \u001b[38;5;241m=\u001b[39m \u001b[38;5;28mself\u001b[39m\u001b[38;5;241m.\u001b[39mbn2(out)\n\u001b[0;32m     99\u001b[0m \u001b[38;5;28;01mif\u001b[39;00m \u001b[38;5;28mself\u001b[39m\u001b[38;5;241m.\u001b[39mdownsample \u001b[38;5;129;01mis\u001b[39;00m \u001b[38;5;129;01mnot\u001b[39;00m \u001b[38;5;28;01mNone\u001b[39;00m:\n",
      "File \u001b[1;32mc:\\Users\\kkrrt\\AppData\\Local\\Programs\\Python\\Python310\\lib\\site-packages\\torch\\nn\\modules\\module.py:1736\u001b[0m, in \u001b[0;36mModule._wrapped_call_impl\u001b[1;34m(self, *args, **kwargs)\u001b[0m\n\u001b[0;32m   1734\u001b[0m     \u001b[38;5;28;01mreturn\u001b[39;00m \u001b[38;5;28mself\u001b[39m\u001b[38;5;241m.\u001b[39m_compiled_call_impl(\u001b[38;5;241m*\u001b[39margs, \u001b[38;5;241m*\u001b[39m\u001b[38;5;241m*\u001b[39mkwargs)  \u001b[38;5;66;03m# type: ignore[misc]\u001b[39;00m\n\u001b[0;32m   1735\u001b[0m \u001b[38;5;28;01melse\u001b[39;00m:\n\u001b[1;32m-> 1736\u001b[0m     \u001b[38;5;28;01mreturn\u001b[39;00m \u001b[38;5;28mself\u001b[39m\u001b[38;5;241m.\u001b[39m_call_impl(\u001b[38;5;241m*\u001b[39margs, \u001b[38;5;241m*\u001b[39m\u001b[38;5;241m*\u001b[39mkwargs)\n",
      "File \u001b[1;32mc:\\Users\\kkrrt\\AppData\\Local\\Programs\\Python\\Python310\\lib\\site-packages\\torch\\nn\\modules\\module.py:1747\u001b[0m, in \u001b[0;36mModule._call_impl\u001b[1;34m(self, *args, **kwargs)\u001b[0m\n\u001b[0;32m   1742\u001b[0m \u001b[38;5;66;03m# If we don't have any hooks, we want to skip the rest of the logic in\u001b[39;00m\n\u001b[0;32m   1743\u001b[0m \u001b[38;5;66;03m# this function, and just call forward.\u001b[39;00m\n\u001b[0;32m   1744\u001b[0m \u001b[38;5;28;01mif\u001b[39;00m \u001b[38;5;129;01mnot\u001b[39;00m (\u001b[38;5;28mself\u001b[39m\u001b[38;5;241m.\u001b[39m_backward_hooks \u001b[38;5;129;01mor\u001b[39;00m \u001b[38;5;28mself\u001b[39m\u001b[38;5;241m.\u001b[39m_backward_pre_hooks \u001b[38;5;129;01mor\u001b[39;00m \u001b[38;5;28mself\u001b[39m\u001b[38;5;241m.\u001b[39m_forward_hooks \u001b[38;5;129;01mor\u001b[39;00m \u001b[38;5;28mself\u001b[39m\u001b[38;5;241m.\u001b[39m_forward_pre_hooks\n\u001b[0;32m   1745\u001b[0m         \u001b[38;5;129;01mor\u001b[39;00m _global_backward_pre_hooks \u001b[38;5;129;01mor\u001b[39;00m _global_backward_hooks\n\u001b[0;32m   1746\u001b[0m         \u001b[38;5;129;01mor\u001b[39;00m _global_forward_hooks \u001b[38;5;129;01mor\u001b[39;00m _global_forward_pre_hooks):\n\u001b[1;32m-> 1747\u001b[0m     \u001b[38;5;28;01mreturn\u001b[39;00m forward_call(\u001b[38;5;241m*\u001b[39margs, \u001b[38;5;241m*\u001b[39m\u001b[38;5;241m*\u001b[39mkwargs)\n\u001b[0;32m   1749\u001b[0m result \u001b[38;5;241m=\u001b[39m \u001b[38;5;28;01mNone\u001b[39;00m\n\u001b[0;32m   1750\u001b[0m called_always_called_hooks \u001b[38;5;241m=\u001b[39m \u001b[38;5;28mset\u001b[39m()\n",
      "File \u001b[1;32mc:\\Users\\kkrrt\\AppData\\Local\\Programs\\Python\\Python310\\lib\\site-packages\\torch\\nn\\modules\\conv.py:554\u001b[0m, in \u001b[0;36mConv2d.forward\u001b[1;34m(self, input)\u001b[0m\n\u001b[0;32m    553\u001b[0m \u001b[38;5;28;01mdef\u001b[39;00m \u001b[38;5;21mforward\u001b[39m(\u001b[38;5;28mself\u001b[39m, \u001b[38;5;28minput\u001b[39m: Tensor) \u001b[38;5;241m-\u001b[39m\u001b[38;5;241m>\u001b[39m Tensor:\n\u001b[1;32m--> 554\u001b[0m     \u001b[38;5;28;01mreturn\u001b[39;00m \u001b[38;5;28;43mself\u001b[39;49m\u001b[38;5;241;43m.\u001b[39;49m\u001b[43m_conv_forward\u001b[49m\u001b[43m(\u001b[49m\u001b[38;5;28;43minput\u001b[39;49m\u001b[43m,\u001b[49m\u001b[43m \u001b[49m\u001b[38;5;28;43mself\u001b[39;49m\u001b[38;5;241;43m.\u001b[39;49m\u001b[43mweight\u001b[49m\u001b[43m,\u001b[49m\u001b[43m \u001b[49m\u001b[38;5;28;43mself\u001b[39;49m\u001b[38;5;241;43m.\u001b[39;49m\u001b[43mbias\u001b[49m\u001b[43m)\u001b[49m\n",
      "File \u001b[1;32mc:\\Users\\kkrrt\\AppData\\Local\\Programs\\Python\\Python310\\lib\\site-packages\\torch\\nn\\modules\\conv.py:549\u001b[0m, in \u001b[0;36mConv2d._conv_forward\u001b[1;34m(self, input, weight, bias)\u001b[0m\n\u001b[0;32m    537\u001b[0m \u001b[38;5;28;01mif\u001b[39;00m \u001b[38;5;28mself\u001b[39m\u001b[38;5;241m.\u001b[39mpadding_mode \u001b[38;5;241m!=\u001b[39m \u001b[38;5;124m\"\u001b[39m\u001b[38;5;124mzeros\u001b[39m\u001b[38;5;124m\"\u001b[39m:\n\u001b[0;32m    538\u001b[0m     \u001b[38;5;28;01mreturn\u001b[39;00m F\u001b[38;5;241m.\u001b[39mconv2d(\n\u001b[0;32m    539\u001b[0m         F\u001b[38;5;241m.\u001b[39mpad(\n\u001b[0;32m    540\u001b[0m             \u001b[38;5;28minput\u001b[39m, \u001b[38;5;28mself\u001b[39m\u001b[38;5;241m.\u001b[39m_reversed_padding_repeated_twice, mode\u001b[38;5;241m=\u001b[39m\u001b[38;5;28mself\u001b[39m\u001b[38;5;241m.\u001b[39mpadding_mode\n\u001b[1;32m   (...)\u001b[0m\n\u001b[0;32m    547\u001b[0m         \u001b[38;5;28mself\u001b[39m\u001b[38;5;241m.\u001b[39mgroups,\n\u001b[0;32m    548\u001b[0m     )\n\u001b[1;32m--> 549\u001b[0m \u001b[38;5;28;01mreturn\u001b[39;00m \u001b[43mF\u001b[49m\u001b[38;5;241;43m.\u001b[39;49m\u001b[43mconv2d\u001b[49m\u001b[43m(\u001b[49m\n\u001b[0;32m    550\u001b[0m \u001b[43m    \u001b[49m\u001b[38;5;28;43minput\u001b[39;49m\u001b[43m,\u001b[49m\u001b[43m \u001b[49m\u001b[43mweight\u001b[49m\u001b[43m,\u001b[49m\u001b[43m \u001b[49m\u001b[43mbias\u001b[49m\u001b[43m,\u001b[49m\u001b[43m \u001b[49m\u001b[38;5;28;43mself\u001b[39;49m\u001b[38;5;241;43m.\u001b[39;49m\u001b[43mstride\u001b[49m\u001b[43m,\u001b[49m\u001b[43m \u001b[49m\u001b[38;5;28;43mself\u001b[39;49m\u001b[38;5;241;43m.\u001b[39;49m\u001b[43mpadding\u001b[49m\u001b[43m,\u001b[49m\u001b[43m \u001b[49m\u001b[38;5;28;43mself\u001b[39;49m\u001b[38;5;241;43m.\u001b[39;49m\u001b[43mdilation\u001b[49m\u001b[43m,\u001b[49m\u001b[43m \u001b[49m\u001b[38;5;28;43mself\u001b[39;49m\u001b[38;5;241;43m.\u001b[39;49m\u001b[43mgroups\u001b[49m\n\u001b[0;32m    551\u001b[0m \u001b[43m\u001b[49m\u001b[43m)\u001b[49m\n",
      "\u001b[1;31mKeyboardInterrupt\u001b[0m: "
     ]
    }
   ],
   "source": [
    "# Cell 7: Main Execution\n",
    "if __name__ == \"__main__\":\n",
    "    # Set device\n",
    "    device = torch.device('cuda' if torch.cuda.is_available() else 'cpu')\n",
    "    print(f\"Using device: {device}\")\n",
    "    \n",
    "    if torch.cuda.is_available():\n",
    "        print(f\"Memory Available: {torch.cuda.get_device_properties(0).total_memory / 1e9:.2f} GB\")\n",
    "    \n",
    "    # Create model\n",
    "    model = ResNetModel(num_classes=2).to(device)\n",
    "    \n",
    "    # Create dataset and loader\n",
    "    batch_size = 32  # Reduced batch size\n",
    "    train_dataset = MovementDataset(data_dir='movements', transform=transform_train)\n",
    "    \n",
    "    # Print class distribution\n",
    "    print(\"\\nClass distribution:\")\n",
    "    class_counts = [0, 0]\n",
    "    for _, label in train_dataset:\n",
    "        class_counts[label] += 1\n",
    "    print(f\"Basic movements: {class_counts[0]}\")\n",
    "    print(f\"Grasping movements: {class_counts[1]}\")\n",
    "    print(f\"Ratio: {class_counts[0]/class_counts[1]:.2f}\")\n",
    "    \n",
    "    train_loader = DataLoader(\n",
    "        train_dataset,\n",
    "        batch_size=batch_size,\n",
    "        shuffle=True,\n",
    "        num_workers=2 if torch.cuda.is_available() else 0,\n",
    "        pin_memory=torch.cuda.is_available()\n",
    "    )\n",
    "    \n",
    "    # Train model\n",
    "    best_accuracy = train_model(model, train_loader)\n",
    "    print(f\"\\nTraining completed! Best accuracy: {best_accuracy:.2f}%\")"
   ]
  },
  {
   "cell_type": "code",
   "execution_count": null,
   "metadata": {},
   "outputs": [],
   "source": []
  },
  {
   "cell_type": "code",
   "execution_count": 8,
   "metadata": {},
   "outputs": [],
   "source": [
    "import torch\n",
    "import torch.nn as nn\n",
    "import torchvision.transforms as transforms\n",
    "import torchvision.models as models\n",
    "from PIL import Image\n",
    "import os\n",
    "\n",
    "# 1) Define the exact same ResNet18-based model used during training.\n",
    "def create_model(num_classes=2):\n",
    "    # Create a baseline resnet18 (no pretrained weights if you trained from scratch).\n",
    "    # If you originally used pretrained=True, then pass it here. \n",
    "    model = models.resnet18(weights=None)\n",
    "    \n",
    "    # Adjust the final layer to match your num_classes\n",
    "    # By default, resnet18's final layer is nn.Linear(512, 1000)\n",
    "    in_features = model.fc.in_features\n",
    "    model.fc = nn.Linear(in_features, num_classes)\n",
    "    \n",
    "    return model\n",
    "\n",
    "# 2) Load the checkpoint\n",
    "def load_model(checkpoint_path=\"best_model.pth\", device=\"cpu\", num_classes=2):\n",
    "    # Instantiate the model architecture\n",
    "    model = create_model(num_classes=num_classes).to(device)\n",
    "    \n",
    "    # Load the entire checkpoint\n",
    "    checkpoint = torch.load(checkpoint_path, map_location=device)\n",
    "    # Note: if you only saved model.state_dict(), load it directly:\n",
    "    # model.load_state_dict(checkpoint)\n",
    "    # Otherwise, if you saved a dict with 'model_state_dict', do:\n",
    "    model.load_state_dict(checkpoint['model_state_dict'])\n",
    "    \n",
    "    # Switch to eval mode\n",
    "    model.eval()\n",
    "    \n",
    "    return model\n",
    "\n"
   ]
  },
  {
   "cell_type": "code",
   "execution_count": 9,
   "metadata": {},
   "outputs": [
    {
     "name": "stdout",
     "output_type": "stream",
     "text": [
      "Validate Model function defined.\n"
     ]
    }
   ],
   "source": [
    "# Cell 4: Optional – Validate on a Folder\n",
    "\n",
    "def validate_model(model, data_dir, device=\"cpu\", batch_size=4):\n",
    "    \"\"\"\n",
    "    Validates the model on a folder structured as:\n",
    "      data_dir/class0/*.jpg\n",
    "      data_dir/class1/*.jpg\n",
    "      ...\n",
    "    Returns accuracy in percentage, plus class names.\n",
    "    \"\"\"\n",
    "    # Match the transforms used during training\n",
    "    val_transforms = transforms.Compose([\n",
    "        transforms.Resize((224, 224)),\n",
    "        transforms.ToTensor(),\n",
    "        transforms.Normalize([0.485, 0.456, 0.406],\n",
    "                             [0.229, 0.224, 0.225])\n",
    "    ])\n",
    "    \n",
    "    val_dataset = datasets.ImageFolder(root=data_dir, transform=val_transforms)\n",
    "    val_loader = DataLoader(val_dataset, batch_size=batch_size, shuffle=False)\n",
    "    \n",
    "    correct = 0\n",
    "    total = 0\n",
    "    \n",
    "    model.eval()\n",
    "    with torch.no_grad():\n",
    "        for inputs, labels in val_loader:\n",
    "            inputs, labels = inputs.to(device), labels.to(device)\n",
    "            outputs = model(inputs)\n",
    "            _, predicted = torch.max(outputs, 1)\n",
    "            correct += (predicted == labels).sum().item()\n",
    "            total += labels.size(0)\n",
    "    \n",
    "    accuracy = 100.0 * correct / total\n",
    "    return accuracy, val_dataset.classes\n",
    "\n",
    "print(\"Validate Model function defined.\")"
   ]
  },
  {
   "cell_type": "code",
   "execution_count": 10,
   "metadata": {},
   "outputs": [
    {
     "name": "stdout",
     "output_type": "stream",
     "text": [
      "Single Image Prediction function defined.\n"
     ]
    }
   ],
   "source": [
    "# Cell 5: Optional – Single-Image Prediction\n",
    "\n",
    "def predict_single_image(model, image_path, device=\"cpu\", class_names=None):\n",
    "    \"\"\"\n",
    "    Loads a single image, applies transforms, and prints the predicted class.\n",
    "    \"\"\"\n",
    "    # Match the transforms from training\n",
    "    test_transforms = transforms.Compose([\n",
    "        transforms.Resize((224, 224)),\n",
    "        transforms.ToTensor(),\n",
    "        transforms.Normalize([0.485, 0.456, 0.406],\n",
    "                             [0.229, 0.224, 0.225])\n",
    "    ])\n",
    "    \n",
    "    # Load & transform\n",
    "    img = Image.open(image_path).convert('RGB')\n",
    "    img_tensor = test_transforms(img).unsqueeze(0).to(device)\n",
    "    \n",
    "    model.eval()\n",
    "    with torch.no_grad():\n",
    "        outputs = model(img_tensor)\n",
    "        _, predicted_idx = torch.max(outputs, 1)\n",
    "    \n",
    "    if class_names:\n",
    "        print(f\"Predicted Class: {class_names[predicted_idx.item()]}\")\n",
    "    else:\n",
    "        print(f\"Predicted Class Index: {predicted_idx.item()}\")\n",
    "\n",
    "print(\"Single Image Prediction function defined.\")"
   ]
  },
  {
   "cell_type": "code",
   "execution_count": 11,
   "metadata": {},
   "outputs": [
    {
     "name": "stdout",
     "output_type": "stream",
     "text": [
      "Using device: cpu\n"
     ]
    },
    {
     "name": "stderr",
     "output_type": "stream",
     "text": [
      "C:\\Users\\kkrrt\\AppData\\Local\\Temp\\ipykernel_19876\\1115107449.py:27: FutureWarning: You are using `torch.load` with `weights_only=False` (the current default value), which uses the default pickle module implicitly. It is possible to construct malicious pickle data which will execute arbitrary code during unpickling (See https://github.com/pytorch/pytorch/blob/main/SECURITY.md#untrusted-models for more details). In a future release, the default value for `weights_only` will be flipped to `True`. This limits the functions that could be executed during unpickling. Arbitrary objects will no longer be allowed to be loaded via this mode unless they are explicitly allowlisted by the user via `torch.serialization.add_safe_globals`. We recommend you start setting `weights_only=True` for any use case where you don't have full control of the loaded file. Please open an issue on GitHub for any issues related to this experimental feature.\n",
      "  checkpoint = torch.load(checkpoint_path, map_location=device)\n"
     ]
    },
    {
     "ename": "RuntimeError",
     "evalue": "Error(s) in loading state_dict for ResNet:\n\tMissing key(s) in state_dict: \"conv1.weight\", \"bn1.weight\", \"bn1.bias\", \"bn1.running_mean\", \"bn1.running_var\", \"layer1.0.conv1.weight\", \"layer1.0.bn1.weight\", \"layer1.0.bn1.bias\", \"layer1.0.bn1.running_mean\", \"layer1.0.bn1.running_var\", \"layer1.0.conv2.weight\", \"layer1.0.bn2.weight\", \"layer1.0.bn2.bias\", \"layer1.0.bn2.running_mean\", \"layer1.0.bn2.running_var\", \"layer1.1.conv1.weight\", \"layer1.1.bn1.weight\", \"layer1.1.bn1.bias\", \"layer1.1.bn1.running_mean\", \"layer1.1.bn1.running_var\", \"layer1.1.conv2.weight\", \"layer1.1.bn2.weight\", \"layer1.1.bn2.bias\", \"layer1.1.bn2.running_mean\", \"layer1.1.bn2.running_var\", \"layer2.0.conv1.weight\", \"layer2.0.bn1.weight\", \"layer2.0.bn1.bias\", \"layer2.0.bn1.running_mean\", \"layer2.0.bn1.running_var\", \"layer2.0.conv2.weight\", \"layer2.0.bn2.weight\", \"layer2.0.bn2.bias\", \"layer2.0.bn2.running_mean\", \"layer2.0.bn2.running_var\", \"layer2.0.downsample.0.weight\", \"layer2.0.downsample.1.weight\", \"layer2.0.downsample.1.bias\", \"layer2.0.downsample.1.running_mean\", \"layer2.0.downsample.1.running_var\", \"layer2.1.conv1.weight\", \"layer2.1.bn1.weight\", \"layer2.1.bn1.bias\", \"layer2.1.bn1.running_mean\", \"layer2.1.bn1.running_var\", \"layer2.1.conv2.weight\", \"layer2.1.bn2.weight\", \"layer2.1.bn2.bias\", \"layer2.1.bn2.running_mean\", \"layer2.1.bn2.running_var\", \"layer3.0.conv1.weight\", \"layer3.0.bn1.weight\", \"layer3.0.bn1.bias\", \"layer3.0.bn1.running_mean\", \"layer3.0.bn1.running_var\", \"layer3.0.conv2.weight\", \"layer3.0.bn2.weight\", \"layer3.0.bn2.bias\", \"layer3.0.bn2.running_mean\", \"layer3.0.bn2.running_var\", \"layer3.0.downsample.0.weight\", \"layer3.0.downsample.1.weight\", \"layer3.0.downsample.1.bias\", \"layer3.0.downsample.1.running_mean\", \"layer3.0.downsample.1.running_var\", \"layer3.1.conv1.weight\", \"layer3.1.bn1.weight\", \"layer3.1.bn1.bias\", \"layer3.1.bn1.running_mean\", \"layer3.1.bn1.running_var\", \"layer3.1.conv2.weight\", \"layer3.1.bn2.weight\", \"layer3.1.bn2.bias\", \"layer3.1.bn2.running_mean\", \"layer3.1.bn2.running_var\", \"layer4.0.conv1.weight\", \"layer4.0.bn1.weight\", \"layer4.0.bn1.bias\", \"layer4.0.bn1.running_mean\", \"layer4.0.bn1.running_var\", \"layer4.0.conv2.weight\", \"layer4.0.bn2.weight\", \"layer4.0.bn2.bias\", \"layer4.0.bn2.running_mean\", \"layer4.0.bn2.running_var\", \"layer4.0.downsample.0.weight\", \"layer4.0.downsample.1.weight\", \"layer4.0.downsample.1.bias\", \"layer4.0.downsample.1.running_mean\", \"layer4.0.downsample.1.running_var\", \"layer4.1.conv1.weight\", \"layer4.1.bn1.weight\", \"layer4.1.bn1.bias\", \"layer4.1.bn1.running_mean\", \"layer4.1.bn1.running_var\", \"layer4.1.conv2.weight\", \"layer4.1.bn2.weight\", \"layer4.1.bn2.bias\", \"layer4.1.bn2.running_mean\", \"layer4.1.bn2.running_var\", \"fc.weight\", \"fc.bias\". \n\tUnexpected key(s) in state_dict: \"models.0.conv1.weight\", \"models.0.bn1.weight\", \"models.0.bn1.bias\", \"models.0.bn1.running_mean\", \"models.0.bn1.running_var\", \"models.0.bn1.num_batches_tracked\", \"models.0.layer1.0.conv1.weight\", \"models.0.layer1.0.bn1.weight\", \"models.0.layer1.0.bn1.bias\", \"models.0.layer1.0.bn1.running_mean\", \"models.0.layer1.0.bn1.running_var\", \"models.0.layer1.0.bn1.num_batches_tracked\", \"models.0.layer1.0.conv2.weight\", \"models.0.layer1.0.bn2.weight\", \"models.0.layer1.0.bn2.bias\", \"models.0.layer1.0.bn2.running_mean\", \"models.0.layer1.0.bn2.running_var\", \"models.0.layer1.0.bn2.num_batches_tracked\", \"models.0.layer1.1.conv1.weight\", \"models.0.layer1.1.bn1.weight\", \"models.0.layer1.1.bn1.bias\", \"models.0.layer1.1.bn1.running_mean\", \"models.0.layer1.1.bn1.running_var\", \"models.0.layer1.1.bn1.num_batches_tracked\", \"models.0.layer1.1.conv2.weight\", \"models.0.layer1.1.bn2.weight\", \"models.0.layer1.1.bn2.bias\", \"models.0.layer1.1.bn2.running_mean\", \"models.0.layer1.1.bn2.running_var\", \"models.0.layer1.1.bn2.num_batches_tracked\", \"models.0.layer2.0.conv1.weight\", \"models.0.layer2.0.bn1.weight\", \"models.0.layer2.0.bn1.bias\", \"models.0.layer2.0.bn1.running_mean\", \"models.0.layer2.0.bn1.running_var\", \"models.0.layer2.0.bn1.num_batches_tracked\", \"models.0.layer2.0.conv2.weight\", \"models.0.layer2.0.bn2.weight\", \"models.0.layer2.0.bn2.bias\", \"models.0.layer2.0.bn2.running_mean\", \"models.0.layer2.0.bn2.running_var\", \"models.0.layer2.0.bn2.num_batches_tracked\", \"models.0.layer2.0.downsample.0.weight\", \"models.0.layer2.0.downsample.1.weight\", \"models.0.layer2.0.downsample.1.bias\", \"models.0.layer2.0.downsample.1.running_mean\", \"models.0.layer2.0.downsample.1.running_var\", \"models.0.layer2.0.downsample.1.num_batches_tracked\", \"models.0.layer2.1.conv1.weight\", \"models.0.layer2.1.bn1.weight\", \"models.0.layer2.1.bn1.bias\", \"models.0.layer2.1.bn1.running_mean\", \"models.0.layer2.1.bn1.running_var\", \"models.0.layer2.1.bn1.num_batches_tracked\", \"models.0.layer2.1.conv2.weight\", \"models.0.layer2.1.bn2.weight\", \"models.0.layer2.1.bn2.bias\", \"models.0.layer2.1.bn2.running_mean\", \"models.0.layer2.1.bn2.running_var\", \"models.0.layer2.1.bn2.num_batches_tracked\", \"models.0.layer3.0.conv1.weight\", \"models.0.layer3.0.bn1.weight\", \"models.0.layer3.0.bn1.bias\", \"models.0.layer3.0.bn1.running_mean\", \"models.0.layer3.0.bn1.running_var\", \"models.0.layer3.0.bn1.num_batches_tracked\", \"models.0.layer3.0.conv2.weight\", \"models.0.layer3.0.bn2.weight\", \"models.0.layer3.0.bn2.bias\", \"models.0.layer3.0.bn2.running_mean\", \"models.0.layer3.0.bn2.running_var\", \"models.0.layer3.0.bn2.num_batches_tracked\", \"models.0.layer3.0.downsample.0.weight\", \"models.0.layer3.0.downsample.1.weight\", \"models.0.layer3.0.downsample.1.bias\", \"models.0.layer3.0.downsample.1.running_mean\", \"models.0.layer3.0.downsample.1.running_var\", \"models.0.layer3.0.downsample.1.num_batches_tracked\", \"models.0.layer3.1.conv1.weight\", \"models.0.layer3.1.bn1.weight\", \"models.0.layer3.1.bn1.bias\", \"models.0.layer3.1.bn1.running_mean\", \"models.0.layer3.1.bn1.running_var\", \"models.0.layer3.1.bn1.num_batches_tracked\", \"models.0.layer3.1.conv2.weight\", \"models.0.layer3.1.bn2.weight\", \"models.0.layer3.1.bn2.bias\", \"models.0.layer3.1.bn2.running_mean\", \"models.0.layer3.1.bn2.running_var\", \"models.0.layer3.1.bn2.num_batches_tracked\", \"models.0.layer4.0.conv1.weight\", \"models.0.layer4.0.bn1.weight\", \"models.0.layer4.0.bn1.bias\", \"models.0.layer4.0.bn1.running_mean\", \"models.0.layer4.0.bn1.running_var\", \"models.0.layer4.0.bn1.num_batches_tracked\", \"models.0.layer4.0.conv2.weight\", \"models.0.layer4.0.bn2.weight\", \"models.0.layer4.0.bn2.bias\", \"models.0.layer4.0.bn2.running_mean\", \"models.0.layer4.0.bn2.running_var\", \"models.0.layer4.0.bn2.num_batches_tracked\", \"models.0.layer4.0.downsample.0.weight\", \"models.0.layer4.0.downsample.1.weight\", \"models.0.layer4.0.downsample.1.bias\", \"models.0.layer4.0.downsample.1.running_mean\", \"models.0.layer4.0.downsample.1.running_var\", \"models.0.layer4.0.downsample.1.num_batches_tracked\", \"models.0.layer4.1.conv1.weight\", \"models.0.layer4.1.bn1.weight\", \"models.0.layer4.1.bn1.bias\", \"models.0.layer4.1.bn1.running_mean\", \"models.0.layer4.1.bn1.running_var\", \"models.0.layer4.1.bn1.num_batches_tracked\", \"models.0.layer4.1.conv2.weight\", \"models.0.layer4.1.bn2.weight\", \"models.0.layer4.1.bn2.bias\", \"models.0.layer4.1.bn2.running_mean\", \"models.0.layer4.1.bn2.running_var\", \"models.0.layer4.1.bn2.num_batches_tracked\", \"models.0.fc.0.weight\", \"models.0.fc.0.bias\", \"models.0.fc.1.weight\", \"models.0.fc.1.bias\", \"models.0.fc.1.running_mean\", \"models.0.fc.1.running_var\", \"models.0.fc.1.num_batches_tracked\", \"models.0.fc.4.weight\", \"models.0.fc.4.bias\", \"models.1.conv1.weight\", \"models.1.bn1.weight\", \"models.1.bn1.bias\", \"models.1.bn1.running_mean\", \"models.1.bn1.running_var\", \"models.1.bn1.num_batches_tracked\", \"models.1.layer1.0.conv1.weight\", \"models.1.layer1.0.bn1.weight\", \"models.1.layer1.0.bn1.bias\", \"models.1.layer1.0.bn1.running_mean\", \"models.1.layer1.0.bn1.running_var\", \"models.1.layer1.0.bn1.num_batches_tracked\", \"models.1.layer1.0.conv2.weight\", \"models.1.layer1.0.bn2.weight\", \"models.1.layer1.0.bn2.bias\", \"models.1.layer1.0.bn2.running_mean\", \"models.1.layer1.0.bn2.running_var\", \"models.1.layer1.0.bn2.num_batches_tracked\", \"models.1.layer1.1.conv1.weight\", \"models.1.layer1.1.bn1.weight\", \"models.1.layer1.1.bn1.bias\", \"models.1.layer1.1.bn1.running_mean\", \"models.1.layer1.1.bn1.running_var\", \"models.1.layer1.1.bn1.num_batches_tracked\", \"models.1.layer1.1.conv2.weight\", \"models.1.layer1.1.bn2.weight\", \"models.1.layer1.1.bn2.bias\", \"models.1.layer1.1.bn2.running_mean\", \"models.1.layer1.1.bn2.running_var\", \"models.1.layer1.1.bn2.num_batches_tracked\", \"models.1.layer2.0.conv1.weight\", \"models.1.layer2.0.bn1.weight\", \"models.1.layer2.0.bn1.bias\", \"models.1.layer2.0.bn1.running_mean\", \"models.1.layer2.0.bn1.running_var\", \"models.1.layer2.0.bn1.num_batches_tracked\", \"models.1.layer2.0.conv2.weight\", \"models.1.layer2.0.bn2.weight\", \"models.1.layer2.0.bn2.bias\", \"models.1.layer2.0.bn2.running_mean\", \"models.1.layer2.0.bn2.running_var\", \"models.1.layer2.0.bn2.num_batches_tracked\", \"models.1.layer2.0.downsample.0.weight\", \"models.1.layer2.0.downsample.1.weight\", \"models.1.layer2.0.downsample.1.bias\", \"models.1.layer2.0.downsample.1.running_mean\", \"models.1.layer2.0.downsample.1.running_var\", \"models.1.layer2.0.downsample.1.num_batches_tracked\", \"models.1.layer2.1.conv1.weight\", \"models.1.layer2.1.bn1.weight\", \"models.1.layer2.1.bn1.bias\", \"models.1.layer2.1.bn1.running_mean\", \"models.1.layer2.1.bn1.running_var\", \"models.1.layer2.1.bn1.num_batches_tracked\", \"models.1.layer2.1.conv2.weight\", \"models.1.layer2.1.bn2.weight\", \"models.1.layer2.1.bn2.bias\", \"models.1.layer2.1.bn2.running_mean\", \"models.1.layer2.1.bn2.running_var\", \"models.1.layer2.1.bn2.num_batches_tracked\", \"models.1.layer3.0.conv1.weight\", \"models.1.layer3.0.bn1.weight\", \"models.1.layer3.0.bn1.bias\", \"models.1.layer3.0.bn1.running_mean\", \"models.1.layer3.0.bn1.running_var\", \"models.1.layer3.0.bn1.num_batches_tracked\", \"models.1.layer3.0.conv2.weight\", \"models.1.layer3.0.bn2.weight\", \"models.1.layer3.0.bn2.bias\", \"models.1.layer3.0.bn2.running_mean\", \"models.1.layer3.0.bn2.running_var\", \"models.1.layer3.0.bn2.num_batches_tracked\", \"models.1.layer3.0.downsample.0.weight\", \"models.1.layer3.0.downsample.1.weight\", \"models.1.layer3.0.downsample.1.bias\", \"models.1.layer3.0.downsample.1.running_mean\", \"models.1.layer3.0.downsample.1.running_var\", \"models.1.layer3.0.downsample.1.num_batches_tracked\", \"models.1.layer3.1.conv1.weight\", \"models.1.layer3.1.bn1.weight\", \"models.1.layer3.1.bn1.bias\", \"models.1.layer3.1.bn1.running_mean\", \"models.1.layer3.1.bn1.running_var\", \"models.1.layer3.1.bn1.num_batches_tracked\", \"models.1.layer3.1.conv2.weight\", \"models.1.layer3.1.bn2.weight\", \"models.1.layer3.1.bn2.bias\", \"models.1.layer3.1.bn2.running_mean\", \"models.1.layer3.1.bn2.running_var\", \"models.1.layer3.1.bn2.num_batches_tracked\", \"models.1.layer4.0.conv1.weight\", \"models.1.layer4.0.bn1.weight\", \"models.1.layer4.0.bn1.bias\", \"models.1.layer4.0.bn1.running_mean\", \"models.1.layer4.0.bn1.running_var\", \"models.1.layer4.0.bn1.num_batches_tracked\", \"models.1.layer4.0.conv2.weight\", \"models.1.layer4.0.bn2.weight\", \"models.1.layer4.0.bn2.bias\", \"models.1.layer4.0.bn2.running_mean\", \"models.1.layer4.0.bn2.running_var\", \"models.1.layer4.0.bn2.num_batches_tracked\", \"models.1.layer4.0.downsample.0.weight\", \"models.1.layer4.0.downsample.1.weight\", \"models.1.layer4.0.downsample.1.bias\", \"models.1.layer4.0.downsample.1.running_mean\", \"models.1.layer4.0.downsample.1.running_var\", \"models.1.layer4.0.downsample.1.num_batches_tracked\", \"models.1.layer4.1.conv1.weight\", \"models.1.layer4.1.bn1.weight\", \"models.1.layer4.1.bn1.bias\", \"models.1.layer4.1.bn1.running_mean\", \"models.1.layer4.1.bn1.running_var\", \"models.1.layer4.1.bn1.num_batches_tracked\", \"models.1.layer4.1.conv2.weight\", \"models.1.layer4.1.bn2.weight\", \"models.1.layer4.1.bn2.bias\", \"models.1.layer4.1.bn2.running_mean\", \"models.1.layer4.1.bn2.running_var\", \"models.1.layer4.1.bn2.num_batches_tracked\", \"models.1.fc.0.weight\", \"models.1.fc.0.bias\", \"models.1.fc.1.weight\", \"models.1.fc.1.bias\", \"models.1.fc.1.running_mean\", \"models.1.fc.1.running_var\", \"models.1.fc.1.num_batches_tracked\", \"models.1.fc.4.weight\", \"models.1.fc.4.bias\", \"models.2.conv1.weight\", \"models.2.bn1.weight\", \"models.2.bn1.bias\", \"models.2.bn1.running_mean\", \"models.2.bn1.running_var\", \"models.2.bn1.num_batches_tracked\", \"models.2.layer1.0.conv1.weight\", \"models.2.layer1.0.bn1.weight\", \"models.2.layer1.0.bn1.bias\", \"models.2.layer1.0.bn1.running_mean\", \"models.2.layer1.0.bn1.running_var\", \"models.2.layer1.0.bn1.num_batches_tracked\", \"models.2.layer1.0.conv2.weight\", \"models.2.layer1.0.bn2.weight\", \"models.2.layer1.0.bn2.bias\", \"models.2.layer1.0.bn2.running_mean\", \"models.2.layer1.0.bn2.running_var\", \"models.2.layer1.0.bn2.num_batches_tracked\", \"models.2.layer1.1.conv1.weight\", \"models.2.layer1.1.bn1.weight\", \"models.2.layer1.1.bn1.bias\", \"models.2.layer1.1.bn1.running_mean\", \"models.2.layer1.1.bn1.running_var\", \"models.2.layer1.1.bn1.num_batches_tracked\", \"models.2.layer1.1.conv2.weight\", \"models.2.layer1.1.bn2.weight\", \"models.2.layer1.1.bn2.bias\", \"models.2.layer1.1.bn2.running_mean\", \"models.2.layer1.1.bn2.running_var\", \"models.2.layer1.1.bn2.num_batches_tracked\", \"models.2.layer2.0.conv1.weight\", \"models.2.layer2.0.bn1.weight\", \"models.2.layer2.0.bn1.bias\", \"models.2.layer2.0.bn1.running_mean\", \"models.2.layer2.0.bn1.running_var\", \"models.2.layer2.0.bn1.num_batches_tracked\", \"models.2.layer2.0.conv2.weight\", \"models.2.layer2.0.bn2.weight\", \"models.2.layer2.0.bn2.bias\", \"models.2.layer2.0.bn2.running_mean\", \"models.2.layer2.0.bn2.running_var\", \"models.2.layer2.0.bn2.num_batches_tracked\", \"models.2.layer2.0.downsample.0.weight\", \"models.2.layer2.0.downsample.1.weight\", \"models.2.layer2.0.downsample.1.bias\", \"models.2.layer2.0.downsample.1.running_mean\", \"models.2.layer2.0.downsample.1.running_var\", \"models.2.layer2.0.downsample.1.num_batches_tracked\", \"models.2.layer2.1.conv1.weight\", \"models.2.layer2.1.bn1.weight\", \"models.2.layer2.1.bn1.bias\", \"models.2.layer2.1.bn1.running_mean\", \"models.2.layer2.1.bn1.running_var\", \"models.2.layer2.1.bn1.num_batches_tracked\", \"models.2.layer2.1.conv2.weight\", \"models.2.layer2.1.bn2.weight\", \"models.2.layer2.1.bn2.bias\", \"models.2.layer2.1.bn2.running_mean\", \"models.2.layer2.1.bn2.running_var\", \"models.2.layer2.1.bn2.num_batches_tracked\", \"models.2.layer3.0.conv1.weight\", \"models.2.layer3.0.bn1.weight\", \"models.2.layer3.0.bn1.bias\", \"models.2.layer3.0.bn1.running_mean\", \"models.2.layer3.0.bn1.running_var\", \"models.2.layer3.0.bn1.num_batches_tracked\", \"models.2.layer3.0.conv2.weight\", \"models.2.layer3.0.bn2.weight\", \"models.2.layer3.0.bn2.bias\", \"models.2.layer3.0.bn2.running_mean\", \"models.2.layer3.0.bn2.running_var\", \"models.2.layer3.0.bn2.num_batches_tracked\", \"models.2.layer3.0.downsample.0.weight\", \"models.2.layer3.0.downsample.1.weight\", \"models.2.layer3.0.downsample.1.bias\", \"models.2.layer3.0.downsample.1.running_mean\", \"models.2.layer3.0.downsample.1.running_var\", \"models.2.layer3.0.downsample.1.num_batches_tracked\", \"models.2.layer3.1.conv1.weight\", \"models.2.layer3.1.bn1.weight\", \"models.2.layer3.1.bn1.bias\", \"models.2.layer3.1.bn1.running_mean\", \"models.2.layer3.1.bn1.running_var\", \"models.2.layer3.1.bn1.num_batches_tracked\", \"models.2.layer3.1.conv2.weight\", \"models.2.layer3.1.bn2.weight\", \"models.2.layer3.1.bn2.bias\", \"models.2.layer3.1.bn2.running_mean\", \"models.2.layer3.1.bn2.running_var\", \"models.2.layer3.1.bn2.num_batches_tracked\", \"models.2.layer4.0.conv1.weight\", \"models.2.layer4.0.bn1.weight\", \"models.2.layer4.0.bn1.bias\", \"models.2.layer4.0.bn1.running_mean\", \"models.2.layer4.0.bn1.running_var\", \"models.2.layer4.0.bn1.num_batches_tracked\", \"models.2.layer4.0.conv2.weight\", \"models.2.layer4.0.bn2.weight\", \"models.2.layer4.0.bn2.bias\", \"models.2.layer4.0.bn2.running_mean\", \"models.2.layer4.0.bn2.running_var\", \"models.2.layer4.0.bn2.num_batches_tracked\", \"models.2.layer4.0.downsample.0.weight\", \"models.2.layer4.0.downsample.1.weight\", \"models.2.layer4.0.downsample.1.bias\", \"models.2.layer4.0.downsample.1.running_mean\", \"models.2.layer4.0.downsample.1.running_var\", \"models.2.layer4.0.downsample.1.num_batches_tracked\", \"models.2.layer4.1.conv1.weight\", \"models.2.layer4.1.bn1.weight\", \"models.2.layer4.1.bn1.bias\", \"models.2.layer4.1.bn1.running_mean\", \"models.2.layer4.1.bn1.running_var\", \"models.2.layer4.1.bn1.num_batches_tracked\", \"models.2.layer4.1.conv2.weight\", \"models.2.layer4.1.bn2.weight\", \"models.2.layer4.1.bn2.bias\", \"models.2.layer4.1.bn2.running_mean\", \"models.2.layer4.1.bn2.running_var\", \"models.2.layer4.1.bn2.num_batches_tracked\", \"models.2.fc.0.weight\", \"models.2.fc.0.bias\", \"models.2.fc.1.weight\", \"models.2.fc.1.bias\", \"models.2.fc.1.running_mean\", \"models.2.fc.1.running_var\", \"models.2.fc.1.num_batches_tracked\", \"models.2.fc.4.weight\", \"models.2.fc.4.bias\". ",
     "output_type": "error",
     "traceback": [
      "\u001b[1;31m---------------------------------------------------------------------------\u001b[0m",
      "\u001b[1;31mRuntimeError\u001b[0m                              Traceback (most recent call last)",
      "Cell \u001b[1;32mIn[11], line 11\u001b[0m\n\u001b[0;32m      9\u001b[0m best_model_path \u001b[38;5;241m=\u001b[39m \u001b[38;5;124m\"\u001b[39m\u001b[38;5;124mbest_model.pth\u001b[39m\u001b[38;5;124m\"\u001b[39m\n\u001b[0;32m     10\u001b[0m \u001b[38;5;28;01mif\u001b[39;00m os\u001b[38;5;241m.\u001b[39mpath\u001b[38;5;241m.\u001b[39mexists(best_model_path):\n\u001b[1;32m---> 11\u001b[0m     model \u001b[38;5;241m=\u001b[39m \u001b[43mload_model\u001b[49m\u001b[43m(\u001b[49m\u001b[43mcheckpoint_path\u001b[49m\u001b[38;5;241;43m=\u001b[39;49m\u001b[43mbest_model_path\u001b[49m\u001b[43m,\u001b[49m\u001b[43m \u001b[49m\u001b[43mdevice\u001b[49m\u001b[38;5;241;43m=\u001b[39;49m\u001b[43mdevice\u001b[49m\u001b[43m,\u001b[49m\u001b[43m \u001b[49m\u001b[43mnum_classes\u001b[49m\u001b[38;5;241;43m=\u001b[39;49m\u001b[38;5;241;43m2\u001b[39;49m\u001b[43m)\u001b[49m\n\u001b[0;32m     12\u001b[0m     \u001b[38;5;28mprint\u001b[39m(\u001b[38;5;124m\"\u001b[39m\u001b[38;5;124mLoaded best model successfully!\u001b[39m\u001b[38;5;124m\"\u001b[39m)\n\u001b[0;32m     13\u001b[0m \u001b[38;5;28;01melse\u001b[39;00m:\n",
      "Cell \u001b[1;32mIn[8], line 31\u001b[0m, in \u001b[0;36mload_model\u001b[1;34m(checkpoint_path, device, num_classes)\u001b[0m\n\u001b[0;32m     27\u001b[0m checkpoint \u001b[38;5;241m=\u001b[39m torch\u001b[38;5;241m.\u001b[39mload(checkpoint_path, map_location\u001b[38;5;241m=\u001b[39mdevice)\n\u001b[0;32m     28\u001b[0m \u001b[38;5;66;03m# Note: if you only saved model.state_dict(), load it directly:\u001b[39;00m\n\u001b[0;32m     29\u001b[0m \u001b[38;5;66;03m# model.load_state_dict(checkpoint)\u001b[39;00m\n\u001b[0;32m     30\u001b[0m \u001b[38;5;66;03m# Otherwise, if you saved a dict with 'model_state_dict', do:\u001b[39;00m\n\u001b[1;32m---> 31\u001b[0m \u001b[43mmodel\u001b[49m\u001b[38;5;241;43m.\u001b[39;49m\u001b[43mload_state_dict\u001b[49m\u001b[43m(\u001b[49m\u001b[43mcheckpoint\u001b[49m\u001b[43m[\u001b[49m\u001b[38;5;124;43m'\u001b[39;49m\u001b[38;5;124;43mmodel_state_dict\u001b[39;49m\u001b[38;5;124;43m'\u001b[39;49m\u001b[43m]\u001b[49m\u001b[43m)\u001b[49m\n\u001b[0;32m     33\u001b[0m \u001b[38;5;66;03m# Switch to eval mode\u001b[39;00m\n\u001b[0;32m     34\u001b[0m model\u001b[38;5;241m.\u001b[39meval()\n",
      "File \u001b[1;32mc:\\Users\\kkrrt\\AppData\\Local\\Programs\\Python\\Python310\\lib\\site-packages\\torch\\nn\\modules\\module.py:2584\u001b[0m, in \u001b[0;36mModule.load_state_dict\u001b[1;34m(self, state_dict, strict, assign)\u001b[0m\n\u001b[0;32m   2576\u001b[0m         error_msgs\u001b[38;5;241m.\u001b[39minsert(\n\u001b[0;32m   2577\u001b[0m             \u001b[38;5;241m0\u001b[39m,\n\u001b[0;32m   2578\u001b[0m             \u001b[38;5;124m\"\u001b[39m\u001b[38;5;124mMissing key(s) in state_dict: \u001b[39m\u001b[38;5;132;01m{}\u001b[39;00m\u001b[38;5;124m. \u001b[39m\u001b[38;5;124m\"\u001b[39m\u001b[38;5;241m.\u001b[39mformat(\n\u001b[0;32m   2579\u001b[0m                 \u001b[38;5;124m\"\u001b[39m\u001b[38;5;124m, \u001b[39m\u001b[38;5;124m\"\u001b[39m\u001b[38;5;241m.\u001b[39mjoin(\u001b[38;5;124mf\u001b[39m\u001b[38;5;124m'\u001b[39m\u001b[38;5;124m\"\u001b[39m\u001b[38;5;132;01m{\u001b[39;00mk\u001b[38;5;132;01m}\u001b[39;00m\u001b[38;5;124m\"\u001b[39m\u001b[38;5;124m'\u001b[39m \u001b[38;5;28;01mfor\u001b[39;00m k \u001b[38;5;129;01min\u001b[39;00m missing_keys)\n\u001b[0;32m   2580\u001b[0m             ),\n\u001b[0;32m   2581\u001b[0m         )\n\u001b[0;32m   2583\u001b[0m \u001b[38;5;28;01mif\u001b[39;00m \u001b[38;5;28mlen\u001b[39m(error_msgs) \u001b[38;5;241m>\u001b[39m \u001b[38;5;241m0\u001b[39m:\n\u001b[1;32m-> 2584\u001b[0m     \u001b[38;5;28;01mraise\u001b[39;00m \u001b[38;5;167;01mRuntimeError\u001b[39;00m(\n\u001b[0;32m   2585\u001b[0m         \u001b[38;5;124m\"\u001b[39m\u001b[38;5;124mError(s) in loading state_dict for \u001b[39m\u001b[38;5;132;01m{}\u001b[39;00m\u001b[38;5;124m:\u001b[39m\u001b[38;5;130;01m\\n\u001b[39;00m\u001b[38;5;130;01m\\t\u001b[39;00m\u001b[38;5;132;01m{}\u001b[39;00m\u001b[38;5;124m\"\u001b[39m\u001b[38;5;241m.\u001b[39mformat(\n\u001b[0;32m   2586\u001b[0m             \u001b[38;5;28mself\u001b[39m\u001b[38;5;241m.\u001b[39m\u001b[38;5;18m__class__\u001b[39m\u001b[38;5;241m.\u001b[39m\u001b[38;5;18m__name__\u001b[39m, \u001b[38;5;124m\"\u001b[39m\u001b[38;5;130;01m\\n\u001b[39;00m\u001b[38;5;130;01m\\t\u001b[39;00m\u001b[38;5;124m\"\u001b[39m\u001b[38;5;241m.\u001b[39mjoin(error_msgs)\n\u001b[0;32m   2587\u001b[0m         )\n\u001b[0;32m   2588\u001b[0m     )\n\u001b[0;32m   2589\u001b[0m \u001b[38;5;28;01mreturn\u001b[39;00m _IncompatibleKeys(missing_keys, unexpected_keys)\n",
      "\u001b[1;31mRuntimeError\u001b[0m: Error(s) in loading state_dict for ResNet:\n\tMissing key(s) in state_dict: \"conv1.weight\", \"bn1.weight\", \"bn1.bias\", \"bn1.running_mean\", \"bn1.running_var\", \"layer1.0.conv1.weight\", \"layer1.0.bn1.weight\", \"layer1.0.bn1.bias\", \"layer1.0.bn1.running_mean\", \"layer1.0.bn1.running_var\", \"layer1.0.conv2.weight\", \"layer1.0.bn2.weight\", \"layer1.0.bn2.bias\", \"layer1.0.bn2.running_mean\", \"layer1.0.bn2.running_var\", \"layer1.1.conv1.weight\", \"layer1.1.bn1.weight\", \"layer1.1.bn1.bias\", \"layer1.1.bn1.running_mean\", \"layer1.1.bn1.running_var\", \"layer1.1.conv2.weight\", \"layer1.1.bn2.weight\", \"layer1.1.bn2.bias\", \"layer1.1.bn2.running_mean\", \"layer1.1.bn2.running_var\", \"layer2.0.conv1.weight\", \"layer2.0.bn1.weight\", \"layer2.0.bn1.bias\", \"layer2.0.bn1.running_mean\", \"layer2.0.bn1.running_var\", \"layer2.0.conv2.weight\", \"layer2.0.bn2.weight\", \"layer2.0.bn2.bias\", \"layer2.0.bn2.running_mean\", \"layer2.0.bn2.running_var\", \"layer2.0.downsample.0.weight\", \"layer2.0.downsample.1.weight\", \"layer2.0.downsample.1.bias\", \"layer2.0.downsample.1.running_mean\", \"layer2.0.downsample.1.running_var\", \"layer2.1.conv1.weight\", \"layer2.1.bn1.weight\", \"layer2.1.bn1.bias\", \"layer2.1.bn1.running_mean\", \"layer2.1.bn1.running_var\", \"layer2.1.conv2.weight\", \"layer2.1.bn2.weight\", \"layer2.1.bn2.bias\", \"layer2.1.bn2.running_mean\", \"layer2.1.bn2.running_var\", \"layer3.0.conv1.weight\", \"layer3.0.bn1.weight\", \"layer3.0.bn1.bias\", \"layer3.0.bn1.running_mean\", \"layer3.0.bn1.running_var\", \"layer3.0.conv2.weight\", \"layer3.0.bn2.weight\", \"layer3.0.bn2.bias\", \"layer3.0.bn2.running_mean\", \"layer3.0.bn2.running_var\", \"layer3.0.downsample.0.weight\", \"layer3.0.downsample.1.weight\", \"layer3.0.downsample.1.bias\", \"layer3.0.downsample.1.running_mean\", \"layer3.0.downsample.1.running_var\", \"layer3.1.conv1.weight\", \"layer3.1.bn1.weight\", \"layer3.1.bn1.bias\", \"layer3.1.bn1.running_mean\", \"layer3.1.bn1.running_var\", \"layer3.1.conv2.weight\", \"layer3.1.bn2.weight\", \"layer3.1.bn2.bias\", \"layer3.1.bn2.running_mean\", \"layer3.1.bn2.running_var\", \"layer4.0.conv1.weight\", \"layer4.0.bn1.weight\", \"layer4.0.bn1.bias\", \"layer4.0.bn1.running_mean\", \"layer4.0.bn1.running_var\", \"layer4.0.conv2.weight\", \"layer4.0.bn2.weight\", \"layer4.0.bn2.bias\", \"layer4.0.bn2.running_mean\", \"layer4.0.bn2.running_var\", \"layer4.0.downsample.0.weight\", \"layer4.0.downsample.1.weight\", \"layer4.0.downsample.1.bias\", \"layer4.0.downsample.1.running_mean\", \"layer4.0.downsample.1.running_var\", \"layer4.1.conv1.weight\", \"layer4.1.bn1.weight\", \"layer4.1.bn1.bias\", \"layer4.1.bn1.running_mean\", \"layer4.1.bn1.running_var\", \"layer4.1.conv2.weight\", \"layer4.1.bn2.weight\", \"layer4.1.bn2.bias\", \"layer4.1.bn2.running_mean\", \"layer4.1.bn2.running_var\", \"fc.weight\", \"fc.bias\". \n\tUnexpected key(s) in state_dict: \"models.0.conv1.weight\", \"models.0.bn1.weight\", \"models.0.bn1.bias\", \"models.0.bn1.running_mean\", \"models.0.bn1.running_var\", \"models.0.bn1.num_batches_tracked\", \"models.0.layer1.0.conv1.weight\", \"models.0.layer1.0.bn1.weight\", \"models.0.layer1.0.bn1.bias\", \"models.0.layer1.0.bn1.running_mean\", \"models.0.layer1.0.bn1.running_var\", \"models.0.layer1.0.bn1.num_batches_tracked\", \"models.0.layer1.0.conv2.weight\", \"models.0.layer1.0.bn2.weight\", \"models.0.layer1.0.bn2.bias\", \"models.0.layer1.0.bn2.running_mean\", \"models.0.layer1.0.bn2.running_var\", \"models.0.layer1.0.bn2.num_batches_tracked\", \"models.0.layer1.1.conv1.weight\", \"models.0.layer1.1.bn1.weight\", \"models.0.layer1.1.bn1.bias\", \"models.0.layer1.1.bn1.running_mean\", \"models.0.layer1.1.bn1.running_var\", \"models.0.layer1.1.bn1.num_batches_tracked\", \"models.0.layer1.1.conv2.weight\", \"models.0.layer1.1.bn2.weight\", \"models.0.layer1.1.bn2.bias\", \"models.0.layer1.1.bn2.running_mean\", \"models.0.layer1.1.bn2.running_var\", \"models.0.layer1.1.bn2.num_batches_tracked\", \"models.0.layer2.0.conv1.weight\", \"models.0.layer2.0.bn1.weight\", \"models.0.layer2.0.bn1.bias\", \"models.0.layer2.0.bn1.running_mean\", \"models.0.layer2.0.bn1.running_var\", \"models.0.layer2.0.bn1.num_batches_tracked\", \"models.0.layer2.0.conv2.weight\", \"models.0.layer2.0.bn2.weight\", \"models.0.layer2.0.bn2.bias\", \"models.0.layer2.0.bn2.running_mean\", \"models.0.layer2.0.bn2.running_var\", \"models.0.layer2.0.bn2.num_batches_tracked\", \"models.0.layer2.0.downsample.0.weight\", \"models.0.layer2.0.downsample.1.weight\", \"models.0.layer2.0.downsample.1.bias\", \"models.0.layer2.0.downsample.1.running_mean\", \"models.0.layer2.0.downsample.1.running_var\", \"models.0.layer2.0.downsample.1.num_batches_tracked\", \"models.0.layer2.1.conv1.weight\", \"models.0.layer2.1.bn1.weight\", \"models.0.layer2.1.bn1.bias\", \"models.0.layer2.1.bn1.running_mean\", \"models.0.layer2.1.bn1.running_var\", \"models.0.layer2.1.bn1.num_batches_tracked\", \"models.0.layer2.1.conv2.weight\", \"models.0.layer2.1.bn2.weight\", \"models.0.layer2.1.bn2.bias\", \"models.0.layer2.1.bn2.running_mean\", \"models.0.layer2.1.bn2.running_var\", \"models.0.layer2.1.bn2.num_batches_tracked\", \"models.0.layer3.0.conv1.weight\", \"models.0.layer3.0.bn1.weight\", \"models.0.layer3.0.bn1.bias\", \"models.0.layer3.0.bn1.running_mean\", \"models.0.layer3.0.bn1.running_var\", \"models.0.layer3.0.bn1.num_batches_tracked\", \"models.0.layer3.0.conv2.weight\", \"models.0.layer3.0.bn2.weight\", \"models.0.layer3.0.bn2.bias\", \"models.0.layer3.0.bn2.running_mean\", \"models.0.layer3.0.bn2.running_var\", \"models.0.layer3.0.bn2.num_batches_tracked\", \"models.0.layer3.0.downsample.0.weight\", \"models.0.layer3.0.downsample.1.weight\", \"models.0.layer3.0.downsample.1.bias\", \"models.0.layer3.0.downsample.1.running_mean\", \"models.0.layer3.0.downsample.1.running_var\", \"models.0.layer3.0.downsample.1.num_batches_tracked\", \"models.0.layer3.1.conv1.weight\", \"models.0.layer3.1.bn1.weight\", \"models.0.layer3.1.bn1.bias\", \"models.0.layer3.1.bn1.running_mean\", \"models.0.layer3.1.bn1.running_var\", \"models.0.layer3.1.bn1.num_batches_tracked\", \"models.0.layer3.1.conv2.weight\", \"models.0.layer3.1.bn2.weight\", \"models.0.layer3.1.bn2.bias\", \"models.0.layer3.1.bn2.running_mean\", \"models.0.layer3.1.bn2.running_var\", \"models.0.layer3.1.bn2.num_batches_tracked\", \"models.0.layer4.0.conv1.weight\", \"models.0.layer4.0.bn1.weight\", \"models.0.layer4.0.bn1.bias\", \"models.0.layer4.0.bn1.running_mean\", \"models.0.layer4.0.bn1.running_var\", \"models.0.layer4.0.bn1.num_batches_tracked\", \"models.0.layer4.0.conv2.weight\", \"models.0.layer4.0.bn2.weight\", \"models.0.layer4.0.bn2.bias\", \"models.0.layer4.0.bn2.running_mean\", \"models.0.layer4.0.bn2.running_var\", \"models.0.layer4.0.bn2.num_batches_tracked\", \"models.0.layer4.0.downsample.0.weight\", \"models.0.layer4.0.downsample.1.weight\", \"models.0.layer4.0.downsample.1.bias\", \"models.0.layer4.0.downsample.1.running_mean\", \"models.0.layer4.0.downsample.1.running_var\", \"models.0.layer4.0.downsample.1.num_batches_tracked\", \"models.0.layer4.1.conv1.weight\", \"models.0.layer4.1.bn1.weight\", \"models.0.layer4.1.bn1.bias\", \"models.0.layer4.1.bn1.running_mean\", \"models.0.layer4.1.bn1.running_var\", \"models.0.layer4.1.bn1.num_batches_tracked\", \"models.0.layer4.1.conv2.weight\", \"models.0.layer4.1.bn2.weight\", \"models.0.layer4.1.bn2.bias\", \"models.0.layer4.1.bn2.running_mean\", \"models.0.layer4.1.bn2.running_var\", \"models.0.layer4.1.bn2.num_batches_tracked\", \"models.0.fc.0.weight\", \"models.0.fc.0.bias\", \"models.0.fc.1.weight\", \"models.0.fc.1.bias\", \"models.0.fc.1.running_mean\", \"models.0.fc.1.running_var\", \"models.0.fc.1.num_batches_tracked\", \"models.0.fc.4.weight\", \"models.0.fc.4.bias\", \"models.1.conv1.weight\", \"models.1.bn1.weight\", \"models.1.bn1.bias\", \"models.1.bn1.running_mean\", \"models.1.bn1.running_var\", \"models.1.bn1.num_batches_tracked\", \"models.1.layer1.0.conv1.weight\", \"models.1.layer1.0.bn1.weight\", \"models.1.layer1.0.bn1.bias\", \"models.1.layer1.0.bn1.running_mean\", \"models.1.layer1.0.bn1.running_var\", \"models.1.layer1.0.bn1.num_batches_tracked\", \"models.1.layer1.0.conv2.weight\", \"models.1.layer1.0.bn2.weight\", \"models.1.layer1.0.bn2.bias\", \"models.1.layer1.0.bn2.running_mean\", \"models.1.layer1.0.bn2.running_var\", \"models.1.layer1.0.bn2.num_batches_tracked\", \"models.1.layer1.1.conv1.weight\", \"models.1.layer1.1.bn1.weight\", \"models.1.layer1.1.bn1.bias\", \"models.1.layer1.1.bn1.running_mean\", \"models.1.layer1.1.bn1.running_var\", \"models.1.layer1.1.bn1.num_batches_tracked\", \"models.1.layer1.1.conv2.weight\", \"models.1.layer1.1.bn2.weight\", \"models.1.layer1.1.bn2.bias\", \"models.1.layer1.1.bn2.running_mean\", \"models.1.layer1.1.bn2.running_var\", \"models.1.layer1.1.bn2.num_batches_tracked\", \"models.1.layer2.0.conv1.weight\", \"models.1.layer2.0.bn1.weight\", \"models.1.layer2.0.bn1.bias\", \"models.1.layer2.0.bn1.running_mean\", \"models.1.layer2.0.bn1.running_var\", \"models.1.layer2.0.bn1.num_batches_tracked\", \"models.1.layer2.0.conv2.weight\", \"models.1.layer2.0.bn2.weight\", \"models.1.layer2.0.bn2.bias\", \"models.1.layer2.0.bn2.running_mean\", \"models.1.layer2.0.bn2.running_var\", \"models.1.layer2.0.bn2.num_batches_tracked\", \"models.1.layer2.0.downsample.0.weight\", \"models.1.layer2.0.downsample.1.weight\", \"models.1.layer2.0.downsample.1.bias\", \"models.1.layer2.0.downsample.1.running_mean\", \"models.1.layer2.0.downsample.1.running_var\", \"models.1.layer2.0.downsample.1.num_batches_tracked\", \"models.1.layer2.1.conv1.weight\", \"models.1.layer2.1.bn1.weight\", \"models.1.layer2.1.bn1.bias\", \"models.1.layer2.1.bn1.running_mean\", \"models.1.layer2.1.bn1.running_var\", \"models.1.layer2.1.bn1.num_batches_tracked\", \"models.1.layer2.1.conv2.weight\", \"models.1.layer2.1.bn2.weight\", \"models.1.layer2.1.bn2.bias\", \"models.1.layer2.1.bn2.running_mean\", \"models.1.layer2.1.bn2.running_var\", \"models.1.layer2.1.bn2.num_batches_tracked\", \"models.1.layer3.0.conv1.weight\", \"models.1.layer3.0.bn1.weight\", \"models.1.layer3.0.bn1.bias\", \"models.1.layer3.0.bn1.running_mean\", \"models.1.layer3.0.bn1.running_var\", \"models.1.layer3.0.bn1.num_batches_tracked\", \"models.1.layer3.0.conv2.weight\", \"models.1.layer3.0.bn2.weight\", \"models.1.layer3.0.bn2.bias\", \"models.1.layer3.0.bn2.running_mean\", \"models.1.layer3.0.bn2.running_var\", \"models.1.layer3.0.bn2.num_batches_tracked\", \"models.1.layer3.0.downsample.0.weight\", \"models.1.layer3.0.downsample.1.weight\", \"models.1.layer3.0.downsample.1.bias\", \"models.1.layer3.0.downsample.1.running_mean\", \"models.1.layer3.0.downsample.1.running_var\", \"models.1.layer3.0.downsample.1.num_batches_tracked\", \"models.1.layer3.1.conv1.weight\", \"models.1.layer3.1.bn1.weight\", \"models.1.layer3.1.bn1.bias\", \"models.1.layer3.1.bn1.running_mean\", \"models.1.layer3.1.bn1.running_var\", \"models.1.layer3.1.bn1.num_batches_tracked\", \"models.1.layer3.1.conv2.weight\", \"models.1.layer3.1.bn2.weight\", \"models.1.layer3.1.bn2.bias\", \"models.1.layer3.1.bn2.running_mean\", \"models.1.layer3.1.bn2.running_var\", \"models.1.layer3.1.bn2.num_batches_tracked\", \"models.1.layer4.0.conv1.weight\", \"models.1.layer4.0.bn1.weight\", \"models.1.layer4.0.bn1.bias\", \"models.1.layer4.0.bn1.running_mean\", \"models.1.layer4.0.bn1.running_var\", \"models.1.layer4.0.bn1.num_batches_tracked\", \"models.1.layer4.0.conv2.weight\", \"models.1.layer4.0.bn2.weight\", \"models.1.layer4.0.bn2.bias\", \"models.1.layer4.0.bn2.running_mean\", \"models.1.layer4.0.bn2.running_var\", \"models.1.layer4.0.bn2.num_batches_tracked\", \"models.1.layer4.0.downsample.0.weight\", \"models.1.layer4.0.downsample.1.weight\", \"models.1.layer4.0.downsample.1.bias\", \"models.1.layer4.0.downsample.1.running_mean\", \"models.1.layer4.0.downsample.1.running_var\", \"models.1.layer4.0.downsample.1.num_batches_tracked\", \"models.1.layer4.1.conv1.weight\", \"models.1.layer4.1.bn1.weight\", \"models.1.layer4.1.bn1.bias\", \"models.1.layer4.1.bn1.running_mean\", \"models.1.layer4.1.bn1.running_var\", \"models.1.layer4.1.bn1.num_batches_tracked\", \"models.1.layer4.1.conv2.weight\", \"models.1.layer4.1.bn2.weight\", \"models.1.layer4.1.bn2.bias\", \"models.1.layer4.1.bn2.running_mean\", \"models.1.layer4.1.bn2.running_var\", \"models.1.layer4.1.bn2.num_batches_tracked\", \"models.1.fc.0.weight\", \"models.1.fc.0.bias\", \"models.1.fc.1.weight\", \"models.1.fc.1.bias\", \"models.1.fc.1.running_mean\", \"models.1.fc.1.running_var\", \"models.1.fc.1.num_batches_tracked\", \"models.1.fc.4.weight\", \"models.1.fc.4.bias\", \"models.2.conv1.weight\", \"models.2.bn1.weight\", \"models.2.bn1.bias\", \"models.2.bn1.running_mean\", \"models.2.bn1.running_var\", \"models.2.bn1.num_batches_tracked\", \"models.2.layer1.0.conv1.weight\", \"models.2.layer1.0.bn1.weight\", \"models.2.layer1.0.bn1.bias\", \"models.2.layer1.0.bn1.running_mean\", \"models.2.layer1.0.bn1.running_var\", \"models.2.layer1.0.bn1.num_batches_tracked\", \"models.2.layer1.0.conv2.weight\", \"models.2.layer1.0.bn2.weight\", \"models.2.layer1.0.bn2.bias\", \"models.2.layer1.0.bn2.running_mean\", \"models.2.layer1.0.bn2.running_var\", \"models.2.layer1.0.bn2.num_batches_tracked\", \"models.2.layer1.1.conv1.weight\", \"models.2.layer1.1.bn1.weight\", \"models.2.layer1.1.bn1.bias\", \"models.2.layer1.1.bn1.running_mean\", \"models.2.layer1.1.bn1.running_var\", \"models.2.layer1.1.bn1.num_batches_tracked\", \"models.2.layer1.1.conv2.weight\", \"models.2.layer1.1.bn2.weight\", \"models.2.layer1.1.bn2.bias\", \"models.2.layer1.1.bn2.running_mean\", \"models.2.layer1.1.bn2.running_var\", \"models.2.layer1.1.bn2.num_batches_tracked\", \"models.2.layer2.0.conv1.weight\", \"models.2.layer2.0.bn1.weight\", \"models.2.layer2.0.bn1.bias\", \"models.2.layer2.0.bn1.running_mean\", \"models.2.layer2.0.bn1.running_var\", \"models.2.layer2.0.bn1.num_batches_tracked\", \"models.2.layer2.0.conv2.weight\", \"models.2.layer2.0.bn2.weight\", \"models.2.layer2.0.bn2.bias\", \"models.2.layer2.0.bn2.running_mean\", \"models.2.layer2.0.bn2.running_var\", \"models.2.layer2.0.bn2.num_batches_tracked\", \"models.2.layer2.0.downsample.0.weight\", \"models.2.layer2.0.downsample.1.weight\", \"models.2.layer2.0.downsample.1.bias\", \"models.2.layer2.0.downsample.1.running_mean\", \"models.2.layer2.0.downsample.1.running_var\", \"models.2.layer2.0.downsample.1.num_batches_tracked\", \"models.2.layer2.1.conv1.weight\", \"models.2.layer2.1.bn1.weight\", \"models.2.layer2.1.bn1.bias\", \"models.2.layer2.1.bn1.running_mean\", \"models.2.layer2.1.bn1.running_var\", \"models.2.layer2.1.bn1.num_batches_tracked\", \"models.2.layer2.1.conv2.weight\", \"models.2.layer2.1.bn2.weight\", \"models.2.layer2.1.bn2.bias\", \"models.2.layer2.1.bn2.running_mean\", \"models.2.layer2.1.bn2.running_var\", \"models.2.layer2.1.bn2.num_batches_tracked\", \"models.2.layer3.0.conv1.weight\", \"models.2.layer3.0.bn1.weight\", \"models.2.layer3.0.bn1.bias\", \"models.2.layer3.0.bn1.running_mean\", \"models.2.layer3.0.bn1.running_var\", \"models.2.layer3.0.bn1.num_batches_tracked\", \"models.2.layer3.0.conv2.weight\", \"models.2.layer3.0.bn2.weight\", \"models.2.layer3.0.bn2.bias\", \"models.2.layer3.0.bn2.running_mean\", \"models.2.layer3.0.bn2.running_var\", \"models.2.layer3.0.bn2.num_batches_tracked\", \"models.2.layer3.0.downsample.0.weight\", \"models.2.layer3.0.downsample.1.weight\", \"models.2.layer3.0.downsample.1.bias\", \"models.2.layer3.0.downsample.1.running_mean\", \"models.2.layer3.0.downsample.1.running_var\", \"models.2.layer3.0.downsample.1.num_batches_tracked\", \"models.2.layer3.1.conv1.weight\", \"models.2.layer3.1.bn1.weight\", \"models.2.layer3.1.bn1.bias\", \"models.2.layer3.1.bn1.running_mean\", \"models.2.layer3.1.bn1.running_var\", \"models.2.layer3.1.bn1.num_batches_tracked\", \"models.2.layer3.1.conv2.weight\", \"models.2.layer3.1.bn2.weight\", \"models.2.layer3.1.bn2.bias\", \"models.2.layer3.1.bn2.running_mean\", \"models.2.layer3.1.bn2.running_var\", \"models.2.layer3.1.bn2.num_batches_tracked\", \"models.2.layer4.0.conv1.weight\", \"models.2.layer4.0.bn1.weight\", \"models.2.layer4.0.bn1.bias\", \"models.2.layer4.0.bn1.running_mean\", \"models.2.layer4.0.bn1.running_var\", \"models.2.layer4.0.bn1.num_batches_tracked\", \"models.2.layer4.0.conv2.weight\", \"models.2.layer4.0.bn2.weight\", \"models.2.layer4.0.bn2.bias\", \"models.2.layer4.0.bn2.running_mean\", \"models.2.layer4.0.bn2.running_var\", \"models.2.layer4.0.bn2.num_batches_tracked\", \"models.2.layer4.0.downsample.0.weight\", \"models.2.layer4.0.downsample.1.weight\", \"models.2.layer4.0.downsample.1.bias\", \"models.2.layer4.0.downsample.1.running_mean\", \"models.2.layer4.0.downsample.1.running_var\", \"models.2.layer4.0.downsample.1.num_batches_tracked\", \"models.2.layer4.1.conv1.weight\", \"models.2.layer4.1.bn1.weight\", \"models.2.layer4.1.bn1.bias\", \"models.2.layer4.1.bn1.running_mean\", \"models.2.layer4.1.bn1.running_var\", \"models.2.layer4.1.bn1.num_batches_tracked\", \"models.2.layer4.1.conv2.weight\", \"models.2.layer4.1.bn2.weight\", \"models.2.layer4.1.bn2.bias\", \"models.2.layer4.1.bn2.running_mean\", \"models.2.layer4.1.bn2.running_var\", \"models.2.layer4.1.bn2.num_batches_tracked\", \"models.2.fc.0.weight\", \"models.2.fc.0.bias\", \"models.2.fc.1.weight\", \"models.2.fc.1.bias\", \"models.2.fc.1.running_mean\", \"models.2.fc.1.running_var\", \"models.2.fc.1.num_batches_tracked\", \"models.2.fc.4.weight\", \"models.2.fc.4.bias\". "
     ]
    }
   ],
   "source": [
    "# Cell 6: Main Usage Example\n",
    "\n",
    "if __name__ == \"__main__\":\n",
    "    # 1) Set device\n",
    "    device = torch.device(\"cuda\" if torch.cuda.is_available() else \"cpu\")\n",
    "    print(f\"Using device: {device}\")\n",
    "    \n",
    "    # 2) Load model from checkpoint\n",
    "    best_model_path = \"best_model.pth\"\n",
    "    if os.path.exists(best_model_path):\n",
    "        model = load_model(checkpoint_path=best_model_path, device=device, num_classes=2)\n",
    "        print(\"Loaded best model successfully!\")\n",
    "    else:\n",
    "        print(f\"Checkpoint not found at {best_model_path}\")\n",
    "        raise SystemExit\n",
    "    \n",
    "    # 3) (Optional) Validate on a dataset folder\n",
    "    validation_dir = \"movements/basic_movements\"  # e.g. \"movements/val\"\n",
    "    if os.path.exists(validation_dir):\n",
    "        accuracy, class_list = validate_model(model, validation_dir, device=device, batch_size=4)\n",
    "        print(f\"Validation Accuracy on '{validation_dir}': {accuracy:.2f}%\")\n",
    "        print(f\"Class names: {class_list}\")\n",
    "    else:\n",
    "        print(f\"Validation directory '{validation_dir}' not found. Skipping validation.\")\n",
    "    \n",
    "    # 4) (Optional) Predict a single image\n",
    "    test_image_path = \"angle_1_Basic_movements_spectrogram_3.png\"\n",
    "    if os.path.exists(test_image_path):\n",
    "        # Provide class names if you have them\n",
    "        your_class_names = [\"basic movement\", \"grasping movement\"]  # Update as needed\n",
    "        predict_single_image(model, test_image_path, device=device, class_names=your_class_names)\n",
    "    else:\n",
    "        print(f\"No test image at {test_image_path}. Skipping single-image prediction.\")"
   ]
  },
  {
   "cell_type": "code",
   "execution_count": null,
   "metadata": {},
   "outputs": [],
   "source": []
  }
 ],
 "metadata": {
  "kernelspec": {
   "display_name": "Python 3",
   "language": "python",
   "name": "python3"
  },
  "language_info": {
   "codemirror_mode": {
    "name": "ipython",
    "version": 3
   },
   "file_extension": ".py",
   "mimetype": "text/x-python",
   "name": "python",
   "nbconvert_exporter": "python",
   "pygments_lexer": "ipython3",
   "version": "3.10.5"
  }
 },
 "nbformat": 4,
 "nbformat_minor": 2
}
